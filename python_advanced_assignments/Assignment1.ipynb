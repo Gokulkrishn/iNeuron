{
 "cells": [
  {
   "cell_type": "markdown",
   "id": "ae26e317",
   "metadata": {},
   "source": [
    "###Q1. What is the purpose of Python&#39;s OOP?\n",
    "\n",
    "    Provides a clear program structure and a clean code\n",
    "    Facilitates easy maintenance and modification of existing code\n",
    "    Since the class is sharable, the code can be reused and many other such Advantages."
   ]
  },
  {
   "cell_type": "markdown",
   "id": "443d00cb",
   "metadata": {},
   "source": [
    "###Q2. Where does an inheritance search look for an attribute?\n",
    "\n",
    "    using __init__(self) function"
   ]
  },
  {
   "cell_type": "markdown",
   "id": "1c70ebe9",
   "metadata": {},
   "source": [
    "###Q3. How do you distinguish between a class object and an instance object?\n",
    "\n",
    "    class objects are created inside class but not in a function\n",
    "\n",
    "    Instance objects are created inside function of a class"
   ]
  },
  {
   "cell_type": "markdown",
   "id": "73289efc",
   "metadata": {},
   "source": [
    "###Q4. What makes the first argument in a class’s method function special?\n",
    "\n",
    "    it is similar to an instance method, instance object is automatically passed as the first argument to the method."
   ]
  },
  {
   "cell_type": "markdown",
   "id": "bae1eb2b",
   "metadata": {},
   "source": [
    "###Q5. What is the purpose of the __init__ method?\n",
    "\n",
    "    __init__ method is used to initialize the objects attributes, it is called every time an object is created from a class"
   ]
  },
  {
   "cell_type": "markdown",
   "id": "84cdbb55",
   "metadata": {},
   "source": [
    "\n",
    "###Q6. What is the process for creating a class instance?\n",
    "\n",
    "\n",
    "    class Example:\n",
    "        def__init__(self,name,salary):\n",
    "            self.name = name\n",
    "            self.salary = salary\n",
    "        def display(self):\n",
    "            print('nmae',self.name)\n",
    "            print('salary',self.salary)"
   ]
  },
  {
   "cell_type": "markdown",
   "id": "4ed81151",
   "metadata": {},
   "source": [
    "\n",
    "###Q7. What is the process for creating a class?\n",
    "\n",
    "    class Example:\n",
    "        atr1 = 'This is a class atribute'\n",
    "        def __init__(self,name,salary):\n",
    "            self.name = name\n",
    "            self.salary = salary\n",
    "        def method1(self):\n",
    "            pass"
   ]
  },
  {
   "cell_type": "markdown",
   "id": "235d080a",
   "metadata": {},
   "source": [
    "\n",
    "###Q8. How would you define the superclasses of a class?\n",
    "\n",
    "    class Parent:\n",
    "        def __init__(self,a,b):\n",
    "            self.a = a\n",
    "            self.b = b\n",
    "\n",
    "    class Child(Parent):\n",
    "        def __init__(self,a,b,c):\n",
    "            self.c = c\n",
    "            super().__init__(a,b)\n",
    "        def get_values(self):\n",
    "            print(self.a,self.b,self.c)\n",
    "\n",
    "c = Child(4,5,6)\n",
    "c.get_values()\n"
   ]
  },
  {
   "cell_type": "code",
   "execution_count": null,
   "id": "ebba4685",
   "metadata": {},
   "outputs": [],
   "source": []
  }
 ],
 "metadata": {
  "kernelspec": {
   "display_name": "Python 3 (ipykernel)",
   "language": "python",
   "name": "python3"
  },
  "language_info": {
   "codemirror_mode": {
    "name": "ipython",
    "version": 3
   },
   "file_extension": ".py",
   "mimetype": "text/x-python",
   "name": "python",
   "nbconvert_exporter": "python",
   "pygments_lexer": "ipython3",
   "version": "3.9.7"
  }
 },
 "nbformat": 4,
 "nbformat_minor": 5
}
