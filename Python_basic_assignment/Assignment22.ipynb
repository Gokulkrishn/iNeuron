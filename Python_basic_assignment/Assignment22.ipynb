{
 "cells": [
  {
   "cell_type": "markdown",
   "id": "8964408b",
   "metadata": {},
   "source": [
    "1. What is the result of the code, and explain?\n",
    "\n",
    "        X = 'iNeuron'\n",
    "        def func():\n",
    "            print(X)\n",
    "\n",
    "        func()\n",
    "\n",
    "        prints 'iNeuron' as X is a global variable which accessed inside function"
   ]
  },
  {
   "cell_type": "markdown",
   "id": "00f226bc",
   "metadata": {},
   "source": [
    "2. What is the result of the code, and explain?\n",
    "\n",
    "        X = 'iNeuron'\n",
    "        def func():\n",
    "            X = 'NI!'\n",
    "\n",
    "        func()\n",
    "        print(X)\n",
    "\n",
    "        print(X) --> prints 'iNeuron' as X modified inside function's scope is only inside function and out function its only global variabl that exists in X"
   ]
  },
  {
   "cell_type": "markdown",
   "id": "1c6a8e65",
   "metadata": {},
   "source": [
    "3. What does this code print, and why?\n",
    "\n",
    "        X = 'iNeuron'\n",
    "        def func():\n",
    "            X = 'NI'\n",
    "            print(X)\n",
    "\n",
    "        func()\n",
    "        print(X)\n",
    "\n",
    "        for func() prints 'NI!' -- global variable is overwritten by the local variable inside function\n",
    "        print(X) --> prints 'iNeuron' as X modified inside function's scope is only inside function and out function its only global variabl that exists in X"
   ]
  },
  {
   "cell_type": "markdown",
   "id": "2370fd1f",
   "metadata": {},
   "source": [
    "4. What output does this code produce? Why?\n",
    "\n",
    "        X = 'iNeuron'\n",
    "        def func():\n",
    "        global X\n",
    "        X = 'NI'\n",
    "\n",
    "        func()\n",
    "        print(X)\n",
    "\n",
    "        prints 'NI' since variable x is global overwritten inside function"
   ]
  },
  {
   "cell_type": "markdown",
   "id": "92fcc6de",
   "metadata": {},
   "source": [
    "5. What about this code—what’s the output, and why?\n",
    "\n",
    "        X = 'iNeuron'\n",
    "        def func():\n",
    "            X = 'NI'\n",
    "            def nested():\n",
    "                print(X)\n",
    "            nested()\n",
    "\n",
    "        func()\n",
    "        X\n",
    "\n",
    "        prints 'NI', As it first looks for x in the nested functions scope as it is unable to find it looks into next immediate function and as it found x's value it prints \"NI\""
   ]
  },
  {
   "cell_type": "markdown",
   "id": "0addc352",
   "metadata": {},
   "source": [
    "6. How about this code: what is its output in Python 3, and explain?\n",
    "\n",
    "        def func():\n",
    "        X = 'NI'\n",
    "            def nested():\n",
    "                nonlocal X\n",
    "                X = 'Spam'\n",
    "        nested()\n",
    "        print(X)\n",
    "\n",
    "        func()\n",
    "\n",
    "        'Spam' will be printed because of the nonlocal keyword, which makes the variable which refers to the variable bounded in the nearest scope"
   ]
  }
 ],
 "metadata": {
  "kernelspec": {
   "display_name": "Python 3 (ipykernel)",
   "language": "python",
   "name": "python3"
  },
  "language_info": {
   "codemirror_mode": {
    "name": "ipython",
    "version": 3
   },
   "file_extension": ".py",
   "mimetype": "text/x-python",
   "name": "python",
   "nbconvert_exporter": "python",
   "pygments_lexer": "ipython3",
   "version": "3.9.7"
  }
 },
 "nbformat": 4,
 "nbformat_minor": 5
}
