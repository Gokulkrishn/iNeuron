{
 "cells": [
  {
   "cell_type": "markdown",
   "id": "0f9f7415",
   "metadata": {},
   "source": [
    "1. What are escape characters, and how do you use them?\n",
    "\n",
    "Escape sequences allow you to include special characters in string. We use by adding '\\' before the special charector"
   ]
  },
  {
   "cell_type": "markdown",
   "id": "95ab9e36",
   "metadata": {},
   "source": [
    "2. What do the escape characters n and t stand for?\n",
    "\n",
    "\\n -- new line\n",
    "\\t -- tab space"
   ]
  },
  {
   "cell_type": "markdown",
   "id": "afe91445",
   "metadata": {},
   "source": [
    "3. What is the way to include backslash characters in a string?\n",
    "\n",
    "Use two backslashes to represent a backslash --> \\\\"
   ]
  },
  {
   "cell_type": "markdown",
   "id": "1e40880d",
   "metadata": {},
   "source": [
    "4. The string \"Howl's Moving Castle\" is a correct value. Why isn't the single quote character in the\n",
    "word Howl's not escaped a problem?\n",
    "\n",
    "because double quotes are used at begining and end of word"
   ]
  },
  {
   "cell_type": "markdown",
   "id": "2b520a49",
   "metadata": {},
   "source": [
    "5. How do you write a string of newlines if you don't want to use the n character?\n",
    "\n",
    "\\n"
   ]
  },
  {
   "cell_type": "markdown",
   "id": "572413d3",
   "metadata": {},
   "source": [
    "6. What are the values of the given expressions?\n",
    "'Hello, world!'[1] --> 'e'\n",
    "'Hello, world!'[0:5]  --> 'Hello'\n",
    "'Hello, world!'[:5]   --> 'Hello'\n",
    "'Hello, world!'[3:]   --> 'lo, world!'\n",
    "\n"
   ]
  },
  {
   "cell_type": "markdown",
   "id": "0cba7b9a",
   "metadata": {},
   "source": [
    "7. What are the values of the following expressions?\n",
    "'Hello'.upper()  --> 'HELLO'\n",
    "'Hello'.upper().isupper()  --> True\n",
    "'Hello'.upper().lower() --> 'hello'\n"
   ]
  },
  {
   "cell_type": "markdown",
   "id": "2048ded0",
   "metadata": {},
   "source": [
    "8. What are the values of the following expressions?\n",
    "'Remember, remember, the fifth of July'.split() -> ['Remember,', 'remember,', 'the', 'fifth', 'of', 'July']\n",
    "'-'.join('There can only one'.split()) -->'There-can-only-one'\n"
   ]
  },
  {
   "cell_type": "markdown",
   "id": "4e91044a",
   "metadata": {},
   "source": [
    "9. What are the methods for right-justifying, left-justifying, and centering a string?\n",
    "\n",
    "rjust(),ljust(),center()"
   ]
  },
  {
   "cell_type": "markdown",
   "id": "23ecca9f",
   "metadata": {},
   "source": [
    "10. What is the best way to remove whitespace characters from the start or end?\n",
    "\n",
    "strip()"
   ]
  },
  {
   "cell_type": "markdown",
   "id": "871c2e38",
   "metadata": {},
   "source": []
  }
 ],
 "metadata": {
  "kernelspec": {
   "display_name": "Python 3 (ipykernel)",
   "language": "python",
   "name": "python3"
  },
  "language_info": {
   "codemirror_mode": {
    "name": "ipython",
    "version": 3
   },
   "file_extension": ".py",
   "mimetype": "text/x-python",
   "name": "python",
   "nbconvert_exporter": "python",
   "pygments_lexer": "ipython3",
   "version": "3.9.7"
  }
 },
 "nbformat": 4,
 "nbformat_minor": 5
}
