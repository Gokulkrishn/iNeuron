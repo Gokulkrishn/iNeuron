{
 "cells": [
  {
   "cell_type": "markdown",
   "id": "cec50a01",
   "metadata": {},
   "source": [
    "1. Create a zoo.py file first. Define the hours() function, which prints the string &#39;Open 9-5 daily&#39;.\n",
    "Then, use the interactive interpreter to import the zoo module and call its hours() function.\n",
    "\n",
    "        import zoo\n",
    "        zoo.hours()"
   ]
  },
  {
   "cell_type": "markdown",
   "id": "d4388876",
   "metadata": {},
   "source": [
    "2. In the interactive interpreter, import the zoo module as menagerie and call its hours() function.\n",
    "\n",
    "        import zoo\n",
    "        result = zoo.hours\n",
    "        result()"
   ]
  },
  {
   "cell_type": "markdown",
   "id": "bd507a4c",
   "metadata": {},
   "source": [
    "3. Using the interpreter, explicitly import and call the hours() function from zoo.\n",
    "\n",
    "        from zoo import hours"
   ]
  },
  {
   "cell_type": "markdown",
   "id": "3805ec23",
   "metadata": {},
   "source": [
    "4. Import the hours() function as info and call it.\n",
    "\n",
    "        from zoo import hours as info"
   ]
  },
  {
   "cell_type": "markdown",
   "id": "b11ce508",
   "metadata": {},
   "source": [
    "5. Create a plain dictionary with the key-value pairs &#39;a&#39;: 1, &#39;b&#39;: 2, and &#39;c&#39;: 3, and print it out.\n",
    "\n",
    "        {'a':1,'b':2,'c':3}"
   ]
  },
  {
   "cell_type": "markdown",
   "id": "f2c4abc5",
   "metadata": {},
   "source": [
    "6.Make an OrderedDict called fancy from the same pairs listed in 5 and print it. Did it print in the\n",
    "same order as plain?\n",
    "\n",
    "        from collections import OrderDict\n",
    "        fancy = OrderDict()\n",
    "        fancy['a'] =1\n",
    "        fancy['b'] =2\n",
    "        fancy['c'] = 3\n",
    "\n",
    "        Yes it prints in the same order"
   ]
  },
  {
   "cell_type": "markdown",
   "id": "1ee6edf1",
   "metadata": {},
   "source": [
    "7. Make a default dictionary called dict_of_lists and pass it the argument list. Make the list\n",
    "dict_of_lists[&#39;a&#39;] and append the value &#39;something for a&#39; to it in one assignment. Print\n",
    "dict_of_lists[&#39;a&#39;].\n",
    "\n",
    "        In [21]: dict_of_lists = {}\n",
    "\n",
    "        In [22]: dict_of_lists['a'] = []\n",
    "\n",
    "        In [23]: dict_of_lists['a'].append('something for a')\n",
    "\n",
    "        In [24]: dict_of_lists\n",
    "        Out[24]: {'a': ['something for a']}\n"
   ]
  }
 ],
 "metadata": {
  "kernelspec": {
   "display_name": "Python 3 (ipykernel)",
   "language": "python",
   "name": "python3"
  },
  "language_info": {
   "codemirror_mode": {
    "name": "ipython",
    "version": 3
   },
   "file_extension": ".py",
   "mimetype": "text/x-python",
   "name": "python",
   "nbconvert_exporter": "python",
   "pygments_lexer": "ipython3",
   "version": "3.9.7"
  }
 },
 "nbformat": 4,
 "nbformat_minor": 5
}
