{
 "cells": [
  {
   "cell_type": "markdown",
   "id": "584f7af8",
   "metadata": {},
   "source": [
    "1. What advantages do Excel spreadsheets have over CSV spreadsheets?\n",
    "\n",
    "        Excel is easier for the end user to read large and complex files over CSV, Excel provides the user option for external linking of data from other sources and also the user can do custom add-ins. No such feature is available in CSV format."
   ]
  },
  {
   "cell_type": "markdown",
   "id": "4eeac6f7",
   "metadata": {},
   "source": [
    "2.What do you pass to csv.reader() and csv.writer() to create reader and writer objects?\n",
    "\n",
    "         file object is passed"
   ]
  },
  {
   "cell_type": "markdown",
   "id": "7b7096a3",
   "metadata": {},
   "source": [
    "3. What modes do File objects for reader and writer objects need to be opened in?\n",
    "\n",
    "        with open(filename, 'r') as csvfile: -- for reading\n",
    "        with open(filename, 'w') as csvfile: -- for writing"
   ]
  },
  {
   "cell_type": "markdown",
   "id": "af4eeb3c",
   "metadata": {},
   "source": [
    "4. What method takes a list argument and writes it to a CSV file?\n",
    "\n",
    "        obj.writerow()"
   ]
  },
  {
   "cell_type": "markdown",
   "id": "2897f571",
   "metadata": {},
   "source": [
    "5. What do the keyword arguments delimiter and line terminator do?\n",
    "\n",
    "        The line terminator is the character that comes at the end of a row. By default, the line terminator is a newline. You can change characters to different values by using the delimiter and lineterminator keyword arguments with csv. writer() ."
   ]
  },
  {
   "cell_type": "markdown",
   "id": "909e3148",
   "metadata": {},
   "source": [
    "6. What function takes a string of JSON data and returns a Python data structure?\n",
    "\n",
    "        json.load()/loads()"
   ]
  },
  {
   "cell_type": "markdown",
   "id": "16b4d0e8",
   "metadata": {},
   "source": [
    "7. What function takes a Python data structure and returns a string of JSON data?\n",
    "\n",
    "        json.dumps()"
   ]
  },
  {
   "cell_type": "code",
   "execution_count": null,
   "id": "07530b3c",
   "metadata": {},
   "outputs": [],
   "source": []
  }
 ],
 "metadata": {
  "kernelspec": {
   "display_name": "Python 3 (ipykernel)",
   "language": "python",
   "name": "python3"
  },
  "language_info": {
   "codemirror_mode": {
    "name": "ipython",
    "version": 3
   },
   "file_extension": ".py",
   "mimetype": "text/x-python",
   "name": "python",
   "nbconvert_exporter": "python",
   "pygments_lexer": "ipython3",
   "version": "3.9.7"
  }
 },
 "nbformat": 4,
 "nbformat_minor": 5
}
