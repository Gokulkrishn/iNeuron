{
 "cells": [
  {
   "cell_type": "markdown",
   "id": "0e6bfcdd",
   "metadata": {},
   "source": [
    "1. To what does a relative path refer?\n",
    "\n",
    "A relative path refers to a location that is relative to a current directory"
   ]
  },
  {
   "cell_type": "markdown",
   "id": "e1142601",
   "metadata": {},
   "source": [
    "2. What does an absolute path start with your operating system?\n",
    "\n",
    "(/)root directory"
   ]
  },
  {
   "cell_type": "markdown",
   "id": "231eb7ca",
   "metadata": {},
   "source": [
    "3. What do the functions os.getcwd() and os.chdir() do?\n",
    "\n",
    "os.getcwd() -- gives absolute path to the present working directory\n",
    "os.chdir(<path>) -- changes the present working directory to the mentioned path"
   ]
  },
  {
   "cell_type": "markdown",
   "id": "5d8bac23",
   "metadata": {},
   "source": [
    "4. What are the . and .. folders?\n",
    "\n",
    ". -- specifies current directory\n",
    ".. -- specifies the parent directory"
   ]
  },
  {
   "cell_type": "markdown",
   "id": "1603c2fc",
   "metadata": {},
   "source": [
    "5. In C:\\bacon\\eggs\\spam.txt, which part is the dir name, and which part is the base name?\n",
    "\n",
    "\n",
    "eggs -- is the dir name\n",
    "C:\\bacon -- is base name"
   ]
  },
  {
   "cell_type": "markdown",
   "id": "4597ea99",
   "metadata": {},
   "source": [
    "6. What are the three “mode” arguments that can be passed to the open() function?\n",
    "\n",
    "\n",
    "mode = 'r' or 'w' or 'a'\n"
   ]
  },
  {
   "cell_type": "markdown",
   "id": "eff42255",
   "metadata": {},
   "source": [
    "7. What happens if an existing file is opened in write mode?\n",
    "\n",
    "The pointer is placed at the beginning of the file and this will overwrite any existing file with the same name"
   ]
  },
  {
   "cell_type": "markdown",
   "id": "3087358b",
   "metadata": {},
   "source": [
    "8. How do you tell the difference between read() and readlines()?\n",
    "\n",
    "read() reads all of the file's contents into a string, readline reads just a single line from the file. "
   ]
  },
  {
   "cell_type": "markdown",
   "id": "ff2e3387",
   "metadata": {},
   "source": [
    "9. What data structure does a shelf value resemble?\n",
    "\n",
    "resembles a dictionary value"
   ]
  }
 ],
 "metadata": {
  "kernelspec": {
   "display_name": "Python 3 (ipykernel)",
   "language": "python",
   "name": "python3"
  },
  "language_info": {
   "codemirror_mode": {
    "name": "ipython",
    "version": 3
   },
   "file_extension": ".py",
   "mimetype": "text/x-python",
   "name": "python",
   "nbconvert_exporter": "python",
   "pygments_lexer": "ipython3",
   "version": "3.9.7"
  }
 },
 "nbformat": 4,
 "nbformat_minor": 5
}
