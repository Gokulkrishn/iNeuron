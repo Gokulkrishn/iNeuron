{
 "cells": [
  {
   "cell_type": "markdown",
   "id": "558e980c",
   "metadata": {},
   "source": [
    "1. Create an assert statement that throws an AssertionError if the variable spam is a negative\n",
    "integer.\n",
    "\n",
    "\n",
    "        In [75]: def func(x):\n",
    "            ...:     try:\n",
    "            ...:         assert x > 0\n",
    "            ...:     except AssertionError:\n",
    "            ...:         print('Number should be non-negative')\n",
    "            ...: \n",
    "\n",
    "        In [76]: func(-4)\n",
    "        Number should be non-negative\n"
   ]
  },
  {
   "cell_type": "markdown",
   "id": "956d17e6",
   "metadata": {},
   "source": [
    "2. Write an assert statement that triggers an AssertionError if the variables eggs and bacon contain\n",
    "strings that are the same as each other, even if their cases are different (that is, 'hello' and 'hello' are\n",
    "considered the same, and 'goodbye' and 'GOODbye' are also considered the same).\n",
    "\n",
    "        assert eggs.lower() != bacon.lower(), 'The eggs and bacon variables are the same!'\n",
    "        assert eggs.upper() != bacon.upper(), 'The eggs and bacon variables are the same!'"
   ]
  },
  {
   "cell_type": "markdown",
   "id": "77aa3ac4",
   "metadata": {},
   "source": [
    "3. Create an assert statement that throws an AssertionError every time.\n",
    "\n",
    "        \n",
    "        \n",
    "        \n",
    "        assert False, 'Always asserts'"
   ]
  },
  {
   "cell_type": "markdown",
   "id": "12cdf24e",
   "metadata": {},
   "source": [
    "4. What are the two lines that must be present in your software in order to call logging.debug()?\n",
    "\n",
    "        import logging\n",
    "        logging.basicConfig(level=logging.DEBUG, format=' %(asctime)s - %(levelname)s - %(message)s')"
   ]
  },
  {
   "cell_type": "markdown",
   "id": "8b8f0777",
   "metadata": {},
   "source": [
    "5. What are the two lines that your program must have in order to have logging.debug() send a\n",
    "logging message to a file named programLog.txt?\n",
    "\n",
    "        import logging\n",
    "        logging.basicConfig(filename='programLog.txt', level=logging.DEBUG, format=' %(asctime)s - %(levelname)s - %(message)s')"
   ]
  },
  {
   "cell_type": "markdown",
   "id": "60a7ee26",
   "metadata": {},
   "source": [
    "6. What are the five levels of logging?\n",
    "\n",
    "        DEBUG\n",
    "        INFO\n",
    "        WARNING\n",
    "        ERROR\n",
    "        CRITICAL"
   ]
  },
  {
   "cell_type": "markdown",
   "id": "0913dc6a",
   "metadata": {},
   "source": [
    "7. What line of code would you add to your software to disable all logging messages?\n",
    "\n",
    "        logger = logging.getLogger('my-logger')\n",
    "        logger.propagate = False\n",
    "                 (or)\n",
    "        logging.disable = True"
   ]
  },
  {
   "cell_type": "markdown",
   "id": "79601c03",
   "metadata": {},
   "source": [
    "8.Why is using logging messages better than using print() to display the same message?\n",
    "\n",
    "        we can disable logging when not required. There are many levels of logging based on criticality with time stamp"
   ]
  },
  {
   "cell_type": "markdown",
   "id": "0a56b6f2",
   "metadata": {},
   "source": [
    "9. What are the differences between the Step Over, Step In, and Step Out buttons in the debugger?\n",
    "\n",
    "        \n",
    "    Step in - Step In button will cause the debugger to execute the next line of code and then pause again.\n",
    "    \n",
    "    Step Over - Step Over button will execute the next line of code, similar to the Step In button. However, if the next line of code is a function call, the Step Over button will “step over” the code in the function. The function’s code will be executed at full speed, and the debugger will pause as soon as the function call returns.\n",
    "    \n",
    "    Step out - Step Out button will cause the debugger to execute lines of code at full speed until it returns from the current function.\n"
   ]
  },
  {
   "cell_type": "markdown",
   "id": "768b0481",
   "metadata": {},
   "source": [
    "10.After you click Continue, when will the debugger stop ?\n",
    "\n",
    "        program to continues running normally, without pausing for debugging untill it terminates or reaches a breakpoint."
   ]
  },
  {
   "cell_type": "markdown",
   "id": "32b9455f",
   "metadata": {},
   "source": [
    "11. What is the concept of a breakpoint? \n",
    "        causes the debugger to pause when the program execution reaches the line"
   ]
  },
  {
   "cell_type": "code",
   "execution_count": null,
   "id": "2143eaf4",
   "metadata": {},
   "outputs": [],
   "source": []
  }
 ],
 "metadata": {
  "kernelspec": {
   "display_name": "Python 3 (ipykernel)",
   "language": "python",
   "name": "python3"
  },
  "language_info": {
   "codemirror_mode": {
    "name": "ipython",
    "version": 3
   },
   "file_extension": ".py",
   "mimetype": "text/x-python",
   "name": "python",
   "nbconvert_exporter": "python",
   "pygments_lexer": "ipython3",
   "version": "3.9.7"
  }
 },
 "nbformat": 4,
 "nbformat_minor": 5
}
