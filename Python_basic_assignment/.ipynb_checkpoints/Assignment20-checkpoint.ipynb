{
 "cells": [
  {
   "cell_type": "markdown",
   "id": "dbf93b95",
   "metadata": {},
   "source": [
    "1. Set the variable test1 to the string &#39;This is a test of the emergency text system,&#39; and save test1 to a\n",
    "file named test.txt.\n",
    "\n",
    "test1 = 'This is a test of the emergency text system'\n",
    "\n",
    "        with open('test.txt','w') as f:\n",
    "            f.write(test1)"
   ]
  },
  {
   "cell_type": "markdown",
   "id": "f7fbaae9",
   "metadata": {},
   "source": [
    "2. Read the contents of the file test.txt into the variable test2. Is there a difference between test 1\n",
    "and test 2?\n",
    "\n",
    "        with open('test.txt','r') as f:\n",
    "            test2 = f.read()\n"
   ]
  },
  {
   "cell_type": "markdown",
   "id": "159ff9ec",
   "metadata": {},
   "source": [
    "3. Create a CSV file called books.csv by using these lines:\n",
    "title,author,year\n",
    "The Weirdstone of Brisingamen,Alan Garner,1960\n",
    "Perdido Street Station,China Miéville,2000\n",
    "Thud!,Terry Pratchett,2005\n",
    "The Spellman Files,Lisa Lutz,2007\n",
    "Small Gods,Terry Pratchett,1992\n",
    "\n",
    "        with open('books.csv', 'w') as f:\n",
    "             f.write('''title,author,year\n",
    "         The Weirdstone of Brisingamen,Alan Garner,1960\n",
    "         Perdido Street Station,China Miéville,2000\n",
    "         Thud!,Terry Pratchett,2005\n",
    "         The Spellman Files,Lisa Lutz,2007\n",
    "         Small Gods,Terry Pratchett,1992''')\n"
   ]
  },
  {
   "cell_type": "markdown",
   "id": "3aced1e4",
   "metadata": {},
   "source": [
    "4. Use the sqlite3 module to create a SQLite database called books.db, and a table called books with\n",
    "these fields: title (text), author (text), and year (integer).\n",
    "\n",
    "        import sqlite3\n",
    "        con = sqlite3.connect('books.db')\n",
    "        cur = con.cursor()\n",
    "        cur.execute('''CREATE TABLE books (title text, author text, year integer)''')"
   ]
  },
  {
   "cell_type": "markdown",
   "id": "df67240e",
   "metadata": {},
   "source": [
    "5. Read books.csv and insert its data into the book table.\n",
    "\n",
    "        with open('books.csv','r') as f:\n",
    "             book = f.read()\n",
    "        con = sqlite3.connect('books.db')\n",
    "        cur = con.cursor()\n",
    "        for each in book.split('\\n')[1:]:\n",
    "             cur.execute(\"INSERT INTO books VALUES ('\" +each.split(',')[0] +\"' ,'\" +each.split(',')[1] +\"' ,'\" \\+each.split(',')[2] +\"')\")\n",
    "        con.commit()\n",
    "        con.close()"
   ]
  },
  {
   "cell_type": "markdown",
   "id": "3bb0b14f",
   "metadata": {},
   "source": [
    "6. Select and print the title column from the book table in alphabetical order.\n",
    "\n",
    "        for each in cur.execute(\"SELECT title FROM books ORDER By title ASC\"):\\\n",
    "             print(each)\n"
   ]
  },
  {
   "cell_type": "markdown",
   "id": "ac95520e",
   "metadata": {},
   "source": [
    "7. From the book table, select and print all columns in the order of publication.\n",
    "\n",
    "        for each in cur.execute(\"SELECT * FROM books ORDER By year ASC\"):\\\n",
    "             print(each)\n"
   ]
  },
  {
   "cell_type": "markdown",
   "id": "b2a191e4",
   "metadata": {},
   "source": [
    "8. Use the sqlalchemy module to connect to the sqlite3 database books.db that you just made in\n",
    "exercise 6.\n",
    "\n",
    "        import sqlalchemy\n",
    "        from sqlalchemy import create_engine\n",
    "        engine = create_engine('sqlite:///books.db', echo = True)\n",
    "        conn = engine.connect()\n",
    "        for each_row in conn.execute(\"SELECT title FROM books ORDER By title ASC\"):\n",
    "            print(each_row)"
   ]
  },
  {
   "cell_type": "markdown",
   "id": "8d53f4b4",
   "metadata": {},
   "source": [
    "9. Install the Redis server and the Python redis library (pip install redis) on your computer. Create a\n",
    "Redis hash called test with the fields count (1) and name (&#39;Fester Bestertester&#39;). Print all the fields for\n",
    "test.\n",
    "\n",
    "        conn = redis.Redis()\n",
    "        conn.delete('test')\n",
    "        conn.hmset('test', {'count': 1, 'name': 'Fester Bestertester'})\n",
    "        conn.hgetall('test')\n",
    "        {b'count': b'1', b'name': b'Fester Bestertester'}\n"
   ]
  },
  {
   "cell_type": "markdown",
   "id": "e7c303d0",
   "metadata": {},
   "source": [
    "10. Increment the count field of test and print it.\n",
    "\n",
    "        conn.hincrby('test', 'count', 1)\n",
    "        2\n",
    "        conn.hget('test','count')\n",
    "        b'2'\n"
   ]
  }
 ],
 "metadata": {
  "kernelspec": {
   "display_name": "Python 3 (ipykernel)",
   "language": "python",
   "name": "python3"
  },
  "language_info": {
   "codemirror_mode": {
    "name": "ipython",
    "version": 3
   },
   "file_extension": ".py",
   "mimetype": "text/x-python",
   "name": "python",
   "nbconvert_exporter": "python",
   "pygments_lexer": "ipython3",
   "version": "3.9.7"
  }
 },
 "nbformat": 4,
 "nbformat_minor": 5
}
