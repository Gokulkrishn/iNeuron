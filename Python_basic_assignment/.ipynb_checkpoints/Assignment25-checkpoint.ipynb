{
 "cells": [
  {
   "cell_type": "markdown",
   "id": "7dba1ac4",
   "metadata": {},
   "source": [
    "1) . What is the difference between enclosing a list comprehension in square brackets and\n",
    "parentheses?\n",
    "\n",
    "        Square bracket -- List\n",
    "        parentheses -- generator object"
   ]
  },
  {
   "cell_type": "markdown",
   "id": "910094a9",
   "metadata": {},
   "source": [
    "2) What is the relationship between generators and iterators?\n",
    "\n",
    "        Iterator can be created using iter keyword, but to create generator we use yield keyword in a function to save local return value"
   ]
  },
  {
   "cell_type": "markdown",
   "id": "68877b87",
   "metadata": {},
   "source": [
    "3) What are the signs that a function is a generator function?\n",
    "\n",
    "        Generator function contains yield keyword"
   ]
  },
  {
   "cell_type": "markdown",
   "id": "f037ddb3",
   "metadata": {},
   "source": [
    "4) What is the purpose of a yield statement?\n",
    "\n",
    "        yield in Python can be used like the return statement in a function. When done so, the function instead of returning the output, it returns a generator that can be iterated upon."
   ]
  },
  {
   "cell_type": "markdown",
   "id": "75e61fb0",
   "metadata": {},
   "source": [
    "5) What is the relationship between map calls and list comprehensions? Make a comparison and\n",
    "contrast between the two.\n",
    "\n",
    "        List comprehension has a simpler configuration than the map function. \n",
    "        List comprehension can be used together with if condition as replacement of filter method. Map function has no such functionality. However, we can feed the map function output to the filter function.\n",
    "        List comprehension returns a list, whereas the map function returns an object of Iterable. \n",
    "        List comprehension execution is faster than that of map function when the formula expression is huge and complex. \n",
    "        Map function is faster than list comprehension when the formula is already defined as a function earlier. So, that map function is used without lambda expression. "
   ]
  }
 ],
 "metadata": {
  "kernelspec": {
   "display_name": "Python 3 (ipykernel)",
   "language": "python",
   "name": "python3"
  },
  "language_info": {
   "codemirror_mode": {
    "name": "ipython",
    "version": 3
   },
   "file_extension": ".py",
   "mimetype": "text/x-python",
   "name": "python",
   "nbconvert_exporter": "python",
   "pygments_lexer": "ipython3",
   "version": "3.9.7"
  }
 },
 "nbformat": 4,
 "nbformat_minor": 5
}
