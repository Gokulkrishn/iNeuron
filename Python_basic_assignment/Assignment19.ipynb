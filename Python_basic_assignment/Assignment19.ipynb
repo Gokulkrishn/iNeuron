{
 "cells": [
  {
   "cell_type": "markdown",
   "id": "065f562a",
   "metadata": {},
   "source": [
    "1. Make a class called Thing with no contents and print it. Then, create an object called example\n",
    "from this class and also print it. Are the printed values the same or different?\n",
    "\n",
    "        Class Thing:\n",
    "                pass\n",
    "\n",
    "        example = Thing()\n",
    "\n",
    "        print(Thing)\n",
    "\n",
    "        print(example)\n",
    "\n",
    "        Printted values are different"
   ]
  },
  {
   "cell_type": "markdown",
   "id": "11ce6f63",
   "metadata": {},
   "source": [
    "2. Create a new class called Thing2 and add the value &#39;abc&#39; to the letters class attribute. Letters\n",
    "should be printed.\n",
    "\n",
    "\n",
    "        class Things2:\n",
    "            letters='abc'\n",
    "\n",
    "        print(Things2.letters)"
   ]
  },
  {
   "cell_type": "markdown",
   "id": "90592d9e",
   "metadata": {},
   "source": [
    "3. Make yet another class called, of course, Thing3. This time, assign the value &#39;xyz&#39; to an instance\n",
    "(object) attribute called letters. Print letters. Do you need to make an object from the class to do\n",
    "this?\n",
    "\n",
    "        class Things3:\n",
    "            def __init__(self):\n",
    "                self.letters = 'xyz'\n",
    "\n",
    "        a = Things3()\n",
    "        a.letters"
   ]
  },
  {
   "cell_type": "markdown",
   "id": "5df97812",
   "metadata": {},
   "source": [
    "4. Create an Element class with the instance attributes name, symbol, and number. Create a class\n",
    "object with the values &#39;Hydrogen,&#39; &#39;H,&#39; and 1.\n",
    "\n",
    "        class Element:\n",
    "            def __init__(self,name,symbol,number):\n",
    "                 self.name = name\n",
    "                 self.symbol = symbol\n",
    "                 self.number = number\n",
    "\n",
    "\n",
    "        obj = Element('Hydrogen','H',1)\n"
   ]
  },
  {
   "cell_type": "markdown",
   "id": "c5e775ec",
   "metadata": {},
   "source": [
    "5. Make a dictionary with these keys and values: &#39;name&#39;: &#39;Hydrogen&#39;, &#39;symbol&#39;: &#39;H&#39;, &#39;number&#39;: 1. Then,\n",
    "create an object called hydrogen from class Element using this dictionary.\n",
    "\n",
    "        class Element:\n",
    "            def __init__(self,name,symbol,number):\n",
    "                self.name = name\n",
    "                self.symbol = symbol\n",
    "                self.number = number\n",
    "        hydrogen = Element('Hydrogen','H',1)\n"
   ]
  },
  {
   "cell_type": "markdown",
   "id": "9ade90f1",
   "metadata": {},
   "source": [
    "6. For the Element class, define a method called dump() that prints the values of the object’s\n",
    "attributes (name, symbol, and number). Create the hydrogen object from this new definition and\n",
    "use dump() to print its attributes.\n",
    "\n",
    "        class Element:\n",
    "            def __init__(self,name,symbol,number):\n",
    "                self.name = name\n",
    "                self.symbol = symbol\n",
    "                self.number = number\n",
    "            def dump(self):\n",
    "                print(self.name,self.symbol,self.number)\n",
    "\n",
    "        hydrogen = Element('Hydrogen','H',1)\n",
    "        hydrogen.dump()"
   ]
  },
  {
   "cell_type": "markdown",
   "id": "64bbd1ac",
   "metadata": {},
   "source": [
    "7. Call print(hydrogen). In the definition of Element, change the name of method dump to __str__,\n",
    "create a new hydrogen object, and call print(hydrogen) again.\n",
    "\n",
    "        class Element:\n",
    "            def __init__(self,name,symbol,number):\n",
    "                self.name = name\n",
    "                self.symbol = symbol\n",
    "                self.number = number\n",
    "            def __str__(self):\n",
    "                return '{} {} {}'.format(self.name,self.symbol,self.number)\n",
    "\n",
    "        hydrogen = Element('Hydrogen','H',1)\n",
    "\n",
    "        print(hydrogen)"
   ]
  },
  {
   "cell_type": "markdown",
   "id": "c17e8de6",
   "metadata": {},
   "source": [
    "8. Modify Element to make the attributes name, symbol, and number private. Define a getter\n",
    "property for each to return its value.\n",
    "\n",
    "\n",
    "        class Element:\n",
    "            def __init__(self,name,symbol,number):\n",
    "                self._name = name\n",
    "                self._symbol = symbol\n",
    "                self._number = number\n",
    "            def get_name(self):\n",
    "                return self._name\n",
    "            def get_symbol(self):\n",
    "                return self._symbol\n",
    "            def get_number(self):\n",
    "                return self._number\n"
   ]
  },
  {
   "cell_type": "markdown",
   "id": "ffcc6996",
   "metadata": {},
   "source": [
    "9. Define three classes: Bear, Rabbit, and Octothorpe. For each, define only one method: eats(). This\n",
    "should return &#39;berries&#39; (Bear), &#39;clover&#39; (Rabbit), or &#39;campers&#39; (Octothorpe). Create one object from\n",
    "each and print what it eats.\n",
    "\n",
    "\n",
    "        class Bear:\n",
    "            def eats(self):\n",
    "                return 'berries'\n",
    "        class Rabbit:\n",
    "            def eats(self):\n",
    "                return 'clover'\n",
    "        class Octothrope:\n",
    "            def eats(self):\n",
    "                return 'campers'"
   ]
  },
  {
   "cell_type": "markdown",
   "id": "6213b291",
   "metadata": {},
   "source": [
    "10. Define these classes: Laser, Claw, and SmartPhone. Each has only one method: does(). This    returns &#39;disintegrate&#39; (Laser), &#39;crush&#39; (Claw), or &#39;ring&#39; (SmartPhone). Then, define the class Robot that has one instance (object) of each of these. Define a does() method for the Robot that prints what its\n",
    "component objects do.\n",
    "\n",
    "        class Robot:\n",
    "            laser = Laser()\n",
    "            claw = Claw()\n",
    "            smartphone = SmartPhone()\n",
    "            def does(self):\n",
    "                return '{} {} {}'.format(self.laser.does(), self.claw.does(), self.smartphone.does())\n",
    "        r = Robot()\n",
    "        r.does()\n",
    "\n",
    "    "
   ]
  }
 ],
 "metadata": {
  "kernelspec": {
   "display_name": "Python 3 (ipykernel)",
   "language": "python",
   "name": "python3"
  },
  "language_info": {
   "codemirror_mode": {
    "name": "ipython",
    "version": 3
   },
   "file_extension": ".py",
   "mimetype": "text/x-python",
   "name": "python",
   "nbconvert_exporter": "python",
   "pygments_lexer": "ipython3",
   "version": "3.9.7"
  }
 },
 "nbformat": 4,
 "nbformat_minor": 5
}
