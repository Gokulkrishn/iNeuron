{
 "cells": [
  {
   "cell_type": "markdown",
   "id": "df0d8fbc",
   "metadata": {},
   "source": [
    "1. What does an empty dictionary's code look like?\n",
    "\n",
    "In [27]: d = {}\n",
    "\n",
    "In [28]: d\n",
    "Out[28]: {}\n"
   ]
  },
  {
   "cell_type": "markdown",
   "id": "501be63b",
   "metadata": {},
   "source": [
    "2. What is the value of a dictionary value with the key 'foo' and the value 42?\n",
    "\n",
    "{'foo': 42}"
   ]
  },
  {
   "cell_type": "markdown",
   "id": "d5fa499f",
   "metadata": {},
   "source": [
    "3. What is the most significant distinction between a dictionary and a list?\n",
    "\n",
    "list([]) is a collection of ordered data. Dictionary({}) is an unordered collection of data that stores data in key-value pairs."
   ]
  },
  {
   "cell_type": "markdown",
   "id": "be8cf0b9",
   "metadata": {},
   "source": [
    "4. What happens if you try to access spam['foo'] if spam is {'bar': 100}?\n",
    "\n",
    "KeyError: 'foo'"
   ]
  },
  {
   "cell_type": "markdown",
   "id": "f0aa6c41",
   "metadata": {},
   "source": [
    "5. If a dictionary is stored in spam, what is the difference between the expressions 'cat' in spam and\n",
    "cat in spam.keys()?\n",
    "\n",
    "'cat' in spam checks whether there is a 'cat' key in the dictionary, while 'cat' in spam. keys() checks whether there is a value 'cat' for one of the keys in spam ."
   ]
  },
  {
   "cell_type": "markdown",
   "id": "7caf15d5",
   "metadata": {},
   "source": [
    "6. If a dictionary is stored in spam, what is the difference between the expressions cat in spam and\n",
    "cat in spam.values()?\n",
    "\n",
    "    'cat' in spam checks whether there is a 'cat' key in the dictionary, while 'cat' in spam. values() checks whether there is a value 'cat' for one of the values in spam ."
   ]
  },
  {
   "cell_type": "markdown",
   "id": "6bb18327",
   "metadata": {},
   "source": [
    "7. What is a shortcut for the following code?\n",
    "if 'color' not in spam:\n",
    "    spam = 'black'\n",
    "\n",
    "spam = 'black' if 'color' not in spam else None"
   ]
  },
  {
   "cell_type": "markdown",
   "id": "44d2415c",
   "metadata": {},
   "source": [
    "8. How do you \"pretty print\" dictionary values using which module and function?\n",
    "\n",
    "using pprint()"
   ]
  },
  {
   "cell_type": "code",
   "execution_count": null,
   "id": "b8eba8e3",
   "metadata": {},
   "outputs": [],
   "source": []
  }
 ],
 "metadata": {
  "kernelspec": {
   "display_name": "Python 3 (ipykernel)",
   "language": "python",
   "name": "python3"
  },
  "language_info": {
   "codemirror_mode": {
    "name": "ipython",
    "version": 3
   },
   "file_extension": ".py",
   "mimetype": "text/x-python",
   "name": "python",
   "nbconvert_exporter": "python",
   "pygments_lexer": "ipython3",
   "version": "3.9.7"
  }
 },
 "nbformat": 4,
 "nbformat_minor": 5
}
