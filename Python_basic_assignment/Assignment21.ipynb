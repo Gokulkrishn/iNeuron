{
 "cells": [
  {
   "cell_type": "markdown",
   "id": "e967ff50",
   "metadata": {},
   "source": [
    "1. Add the current date to the text file today.txt as a string.\n",
    "\n",
    "        import datetime\n",
    "        today_date = datetime.date.today()\n",
    "        out = today_date.strftime('%d-%m-%Y')\n",
    "        with open('today.txt','w') as f:\n",
    "             f.write(out)\n"
   ]
  },
  {
   "cell_type": "markdown",
   "id": "78de8d9e",
   "metadata": {},
   "source": [
    "2. Read the text file today.txt into the string today_string\n",
    "\n",
    "        with open('today.txt','r') as f:\n",
    "            today_string = f.read()\n"
   ]
  },
  {
   "cell_type": "markdown",
   "id": "02c85a9c",
   "metadata": {},
   "source": [
    "3. Parse the date from today_string.\n",
    "\n",
    "        today_string.split('-')[0]"
   ]
  },
  {
   "cell_type": "markdown",
   "id": "2bf21774",
   "metadata": {},
   "source": [
    "4. List the files in your current directory\n",
    "\n",
    "        import os\n",
    "        os.listdir('.')"
   ]
  },
  {
   "cell_type": "markdown",
   "id": "3afa0631",
   "metadata": {},
   "source": [
    "5. Create a list of all of the files in your parent directory (minimum five files should be available).\n",
    "\n",
    "        os.listdir('..')"
   ]
  },
  {
   "cell_type": "markdown",
   "id": "a2cfeb64",
   "metadata": {},
   "source": [
    "6. Use multiprocessing to create three separate processes. Make each one wait a random number of\n",
    "seconds between one and five, print the current time, and then exit.\n",
    "\n",
    "\n",
    "\n",
    "        import multiprocessing\n",
    "        import time \n",
    "        import random\n",
    "        import datetime\n",
    "\n",
    "        def procOne():\n",
    "            print(f'Proc_one_Starttime -> {datetime.datetime.now()}')\n",
    "            time.sleep(random.randint(1,5))\n",
    "            print(f'Proc_one_Endtime -> {datetime.datetime.now()}')\n",
    "\n",
    "        def procTwo():\n",
    "            print(f'Proc_two_Starttime -> {datetime.datetime.now()}')\n",
    "            time.sleep(random.randint(1,5))\n",
    "            print(f'Proc_two_Endtime -> {datetime.datetime.now()}')\n",
    "\n",
    "        def procThree():\n",
    "            print(f'Proc_two_Starttime -> {datetime.datetime.now()}')\n",
    "            time.sleep(random.randint(1,5))\n",
    "            print(f'Proc_two_Endtime -> {datetime.datetime.now()}')\n",
    "\n",
    "        if __name__ == \"__main__\":    \n",
    "            p1 = multiprocessing.Process(target=procOne)\n",
    "            p2 = multiprocessing.Process(target=procTwo)\n",
    "            p3 = multiprocessing.Process(target=procThree)\n",
    "\n",
    "            p1.start()\n",
    "            p2.start()\n",
    "            p3.start()\n",
    "\n",
    "            p1.join()\n",
    "            p2.join()\n",
    "            p3.join()\n",
    "\n"
   ]
  },
  {
   "cell_type": "markdown",
   "id": "ec6d561e",
   "metadata": {},
   "source": [
    "7. Create a date object of your day of birth.\n",
    "\n",
    "        dob = date(1990,2,20)"
   ]
  },
  {
   "cell_type": "markdown",
   "id": "279335f9",
   "metadata": {},
   "source": [
    "8. What day of the week was your day of birth?\n",
    "\n",
    "         dob = date(1990,2,20)\n",
    "\n",
    "         weeks =[\"Monday\",\"Tuesday\",\"Wednersday\",\"Thursday\",\"Friday\",\"Saturday\",\"Sunday\"]\n",
    "\n",
    "         weeks[dob.isoweekday()-1]"
   ]
  },
  {
   "cell_type": "markdown",
   "id": "be41762b",
   "metadata": {},
   "source": [
    "9. When will you be (or when were you) 10,000 days old?\n",
    "\n",
    "        dob = date(1990,2,20)\n",
    "\n",
    "        dob + timedelta(days=10000)\n",
    "\n",
    "        datetime.date(2017, 7, 8)\n"
   ]
  },
  {
   "cell_type": "code",
   "execution_count": null,
   "id": "c9791dee",
   "metadata": {},
   "outputs": [],
   "source": []
  }
 ],
 "metadata": {
  "kernelspec": {
   "display_name": "Python 3 (ipykernel)",
   "language": "python",
   "name": "python3"
  },
  "language_info": {
   "codemirror_mode": {
    "name": "ipython",
    "version": 3
   },
   "file_extension": ".py",
   "mimetype": "text/x-python",
   "name": "python",
   "nbconvert_exporter": "python",
   "pygments_lexer": "ipython3",
   "version": "3.9.7"
  }
 },
 "nbformat": 4,
 "nbformat_minor": 5
}
