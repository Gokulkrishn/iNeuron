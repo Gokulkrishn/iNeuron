{
 "cells": [
  {
   "cell_type": "markdown",
   "id": "875a4e1e",
   "metadata": {},
   "source": [
    "1. What is the relationship between def statements and lambda expressions ?\n",
    "\n",
    "        1) def can hold multiple expressions while lambda is a uni-expression function.\\\n",
    "        2) def generates a function and designates a name to call it later. Lambda forms a function object and returns it.\\\n",
    "        3) def can have a return statement. Lambda can’t have return statements.\\\n",
    "        4) lambda supports to get used inside a list and dictionary.\n"
   ]
  },
  {
   "cell_type": "markdown",
   "id": "c7cd70f6",
   "metadata": {},
   "source": [
    "2. What is the benefit of lambda?\n",
    "\n",
    "        lambda is a anonymous function means that the function is without a name\n",
    "\n",
    "        lambda can greatly reduce the number of lines of codes\n",
    "        shortest way of writing function\n",
    "        map,reduce, filter methods can be effectively used\n"
   ]
  },
  {
   "cell_type": "markdown",
   "id": "b82c706e",
   "metadata": {},
   "source": [
    "3. Compare and contrast map, filter, and reduce.\n",
    "\n",
    "\n",
    "        map --> applies the function it receives as an argument to each element in a sequence and returns the resulting sequence.\n",
    "        filter --> takes a function called a predicate that returns “True” if an element passes the condition stated in the predicate, and “False” otherwise.\n",
    "        reduce() --> function doesn’t return a new sequence like map() and filter(). Instead, it returns a single value"
   ]
  },
  {
   "cell_type": "markdown",
   "id": "27141c04",
   "metadata": {},
   "source": [
    "4. What are function annotations, and how are they used?\n",
    "\n",
    "        Function annotations are arbitrary python expressions that are associated with various part of functions. These expressions are evaluated at compile time and have no life in python’s runtime environment. Python does not attach any meaning to these annotations. They take life when interpreted by third party libraries.\n",
    "\n",
    "        Annotation lets you assign special warnings to methods, and gives you indications when you call them that you should read their documentation\n"
   ]
  },
  {
   "cell_type": "markdown",
   "id": "033e3c0b",
   "metadata": {},
   "source": [
    "5. What are recursive functions, and how are they used?\n",
    "\n",
    "        recursive function can be defined as a routine that calls itself directly or indirectly."
   ]
  },
  {
   "cell_type": "markdown",
   "id": "63228dfd",
   "metadata": {},
   "source": [
    "6. What are some general design guidelines for coding functions?\n",
    "\n",
    "        1) The names of the function should be written in camel case starting with small letters.\\\n",
    "        2) The name of the function must describe the reason of using the function clearly and briefly.\\\n",
    "        3) All functions that encountering an error condition should either return a 0 or 1 for simplifying the debugging.\\\n",
    "        4) Lengthy functions are very difficult to understand. That’s why functions should be small enough to carry out small work and lengthy functions should be broken into small ones for completing small tasks."
   ]
  },
  {
   "cell_type": "markdown",
   "id": "da13879c",
   "metadata": {},
   "source": [
    "7. Name three or more ways that functions can communicate results to a caller.\n",
    "\n",
    "        It can communicated back with return, yield and generator methods"
   ]
  }
 ],
 "metadata": {
  "kernelspec": {
   "display_name": "Python 3 (ipykernel)",
   "language": "python",
   "name": "python3"
  },
  "language_info": {
   "codemirror_mode": {
    "name": "ipython",
    "version": 3
   },
   "file_extension": ".py",
   "mimetype": "text/x-python",
   "name": "python",
   "nbconvert_exporter": "python",
   "pygments_lexer": "ipython3",
   "version": "3.9.7"
  }
 },
 "nbformat": 4,
 "nbformat_minor": 5
}
