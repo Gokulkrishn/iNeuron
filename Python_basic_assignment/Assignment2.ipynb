{
 "cells": [
  {
   "cell_type": "markdown",
   "id": "1dc118f2",
   "metadata": {},
   "source": [
    "1.What are the two values of the Boolean data type? How do you write them?\n",
    "\n",
    "True, False\\\n",
    "a = True\\\n",
    "b = False"
   ]
  },
  {
   "cell_type": "markdown",
   "id": "030a3323",
   "metadata": {},
   "source": [
    "2. What are the three different types of Boolean operators?\n",
    "\n",
    "and,or and not"
   ]
  },
  {
   "cell_type": "markdown",
   "id": "77d1f005",
   "metadata": {},
   "source": [
    "3. Make a list of each Boolean operator's truth tables (i.e. every possible combination of Boolean\n",
    "values for the operator and what it evaluate ).\n",
    "\n",
    "\n",
    "| X      | Y | And    | OR | Not|\n",
    "| :---        |    :----:   |         : ---: | :----:|---:|\n",
    "|   True    | True       | True   |True|False |\n",
    "|   True | False         |     False | True| False|\n",
    "|   False    | True       | False  |True|False|\n",
    "| False   | False        |    False  |False| True|\n",
    "       "
   ]
  },
  {
   "cell_type": "markdown",
   "id": "40511dcf",
   "metadata": {},
   "source": [
    "4. What are the values of the following expressions?\n",
    "\n",
    "\\(5 &gt; 4) and (3 == 5) : False\\\n",
    "not (5 &gt; 4): False\\\n",
    "(5 &gt; 4) or (3 == 5) : True\\\n",
    "not ((5 &gt; 4) or (3 == 5)):False\\\n",
    "(True and True) and (True == False): False\\\n",
    "(not False) or (not True) : True\n"
   ]
  },
  {
   "cell_type": "markdown",
   "id": "0dcbe888",
   "metadata": {},
   "source": [
    "5. What are the six comparison operators\n",
    "\n",
    "equal to, not equal to, greater than, greater than or equal to, less than, and less than or equal to."
   ]
  },
  {
   "cell_type": "markdown",
   "id": "90e4c730",
   "metadata": {},
   "source": [
    "6. How do you tell the difference between the equal to and assignment operators?Describe a\n",
    "condition and when you would use one.\n",
    "\n",
    "a == 5 : equal to\\\n",
    "a = 5 assignment operator\n"
   ]
  },
  {
   "cell_type": "markdown",
   "id": "c58f2511",
   "metadata": {},
   "source": [
    "7. Identify the three blocks in this code:\n",
    "\n",
    "spam = 0\\\n",
    "if spam == 10:  -- block 1 \\\n",
    "print('eggs')\\\n",
    "if spam > 5: block 2\\\n",
    "print('bacon')\\\n",
    "else: block3 \\\n",
    "print('ham')\\\n",
    "print('spam')\\\n",
    "print('spam')\\\n"
   ]
  },
  {
   "cell_type": "markdown",
   "id": "53da39ca",
   "metadata": {},
   "source": [
    "8. Write code that prints Hello if 1 is stored in spam, prints Howdy if 2 is stored in spam, and prints\n",
    "Greetings! if anything else is stored in spam.\n",
    "\n",
    "if spam == 1:\\\n",
    "   print('Hello')\\\n",
    "elif spam ==2:\\\n",
    "   print('Howdy')\\\n",
    "else:\\\n",
    "   print('Greetings!')\n",
    "\n"
   ]
  },
  {
   "cell_type": "markdown",
   "id": "b3f05206",
   "metadata": {},
   "source": [
    "9.If your programme is stuck in an endless loop, what keys you’ll press?\n",
    "\n",
    "Ctrl-C"
   ]
  },
  {
   "cell_type": "markdown",
   "id": "ab3c06bd",
   "metadata": {},
   "source": [
    "10. How can you tell the difference between break and continue?\n",
    "\n",
    "Break -- exists from the loop\\\n",
    "Continue -- skips that iteration in the loop\n"
   ]
  },
  {
   "cell_type": "markdown",
   "id": "d5f2a7dd",
   "metadata": {},
   "source": [
    "11. In a for loop, what is the difference between range(10), range(0, 10), and range(0, 10, 1)?\n",
    "\n",
    "There is no difference\n"
   ]
  },
  {
   "cell_type": "markdown",
   "id": "539698ad",
   "metadata": {},
   "source": [
    "12. Write a short program that prints the numbers 1 to 10 using a for loop. Then write an equivalent\n",
    "program that prints the numbers 1 to 10 using a while loop.\n",
    "\n",
    "for i in range(1,11):\\\n",
    "    print(i)\\\n",
    "i = 1\\\n",
    "while i <=10:\\\n",
    "   print(i)\\\n",
    "   i +=1"
   ]
  },
  {
   "cell_type": "markdown",
   "id": "47ed9267",
   "metadata": {},
   "source": [
    "13. If you had a function named bacon() inside a module named spam, how would you call it after\n",
    "importing spam?\n",
    "\n",
    "\n",
    "def bacon():\\\n",
    "    print('came to bacon')\\\n",
    "\n",
    "import spam\\\n",
    "spam.bacon()"
   ]
  },
  {
   "cell_type": "code",
   "execution_count": null,
   "id": "b3b38bb2",
   "metadata": {},
   "outputs": [],
   "source": []
  }
 ],
 "metadata": {
  "kernelspec": {
   "display_name": "Python 3 (ipykernel)",
   "language": "python",
   "name": "python3"
  },
  "language_info": {
   "codemirror_mode": {
    "name": "ipython",
    "version": 3
   },
   "file_extension": ".py",
   "mimetype": "text/x-python",
   "name": "python",
   "nbconvert_exporter": "python",
   "pygments_lexer": "ipython3",
   "version": "3.9.7"
  }
 },
 "nbformat": 4,
 "nbformat_minor": 5
}
