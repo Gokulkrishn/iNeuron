{
 "cells": [
  {
   "cell_type": "markdown",
   "id": "9e0e18cd",
   "metadata": {},
   "source": [
    "1. What is the name of the feature responsible for generating Regex objects?\n",
    "\n",
    "\n",
    "re module"
   ]
  },
  {
   "cell_type": "markdown",
   "id": "d0c001a0",
   "metadata": {},
   "source": [
    "2. Why do raw strings often appear in Regex objects?\n",
    "\n",
    "raw string in python tell python intrepreter not to handle '\\' in any special way like \\n,\\t.Without it, every backslash ('\\') in a regular expression would have to be prefixed with another one to escape it. Raw string notation (r\"text\") avoids confusion."
   ]
  },
  {
   "cell_type": "markdown",
   "id": "78cbc6a4",
   "metadata": {},
   "source": [
    "3. What is the return value of the search() method?\n",
    "\n",
    "it return match object"
   ]
  },
  {
   "cell_type": "markdown",
   "id": "35ad057f",
   "metadata": {},
   "source": [
    "4. From a Match item, how do you get the actual strings that match the pattern?\n",
    "\n",
    "with group() method"
   ]
  },
  {
   "cell_type": "markdown",
   "id": "eeae0cf3",
   "metadata": {},
   "source": [
    "5. In the regex which created from the r'(\\d\\d\\d)-(\\d\\d\\d-\\d\\d\\d\\d)', what does group zero cover?\n",
    "Group 2? Group 1?\n",
    "\n",
    "\n",
    "Group 0 contains entire match, Group1 contains match for (\\d\\d\\d) and group2 contains match for (\\d\\d\\d-\\d\\d\\d\\d)"
   ]
  },
  {
   "cell_type": "markdown",
   "id": "b80a8534",
   "metadata": {},
   "source": [
    "6. In standard expression syntax, parentheses and intervals have distinct meanings. How can you tell\n",
    "a regex that you want it to fit real parentheses and periods?\n",
    "\n",
    "\\(, \\) for parentheses and \\. for periods"
   ]
  },
  {
   "cell_type": "markdown",
   "id": "9d518b67",
   "metadata": {},
   "source": [
    "7. The findall() method returns a string list or a list of string tuples. What causes it to return one of\n",
    "the two options?\n",
    "\n",
    "findall() finds all matches and returns them as a list"
   ]
  },
  {
   "cell_type": "markdown",
   "id": "4bb659c8",
   "metadata": {},
   "source": [
    "8. In standard expressions, what does the | character mean?\n",
    "\n",
    "| is bitwise OR operator"
   ]
  },
  {
   "cell_type": "markdown",
   "id": "cf443658",
   "metadata": {},
   "source": [
    "9. In regular expressions, what does the character stand for?\n",
    "\n",
    "are the meta characters that give special meaning to the regular expression search syntax:\n",
    "\\,\"\\n\",^,$,{ },[ ],\"-\",( ),'.','*','+','|','< >',"
   ]
  },
  {
   "cell_type": "markdown",
   "id": "54c83d8d",
   "metadata": {},
   "source": [
    "10.In regular expressions, what is the difference between the + and * characters?\n",
    "\n",
    "( * ) means preceding expression can match zero or more times\n",
    "( + ) means preceding expression MUST match at least one time or multiple times"
   ]
  },
  {
   "cell_type": "markdown",
   "id": "66a73a4e",
   "metadata": {},
   "source": [
    "11. What is the difference between {4} and {4,5} in regular expression?\n",
    "\n",
    "{4} - matching charector must apper for 4 times\n",
    "{4,5} - matching charector can appear min of 4 times and maximum of 5 times"
   ]
  },
  {
   "cell_type": "markdown",
   "id": "2b4368a9",
   "metadata": {},
   "source": [
    "12. What do you mean by the \\d, \\w, and \\s shorthand character classes signify in regular\n",
    "expressions?\n",
    "\n",
    "\\d - digit match\n",
    "\\w - word match\n",
    "\\s - space match"
   ]
  },
  {
   "cell_type": "markdown",
   "id": "9dabdb52",
   "metadata": {},
   "source": [
    "13. What do means by \\D, \\W, and \\S shorthand character classes signify in regular expressions?\n",
    "\n",
    "\\D - matches any non digit charector\n",
    "\\W - matches any non word charector\n",
    "\\S - matches any first non space charector"
   ]
  },
  {
   "cell_type": "markdown",
   "id": "0b6020e3",
   "metadata": {},
   "source": [
    "14. What is the difference between .*? and .*?\n",
    "\n",
    ".*? -- is non greedy match,  it will match all the way to the end\n",
    ".*  -- greedy match, matches as few characters as possible using least number of repititions"
   ]
  },
  {
   "cell_type": "markdown",
   "id": "4e7f8b86",
   "metadata": {},
   "source": [
    "15. What is the syntax for matching both numbers and lowercase letters with a character class?\n",
    "\n",
    "[0-9a-z]+"
   ]
  },
  {
   "cell_type": "markdown",
   "id": "8d8e2c4d",
   "metadata": {},
   "source": [
    "16. What is the procedure for making a normal expression in regax case insensitive?\n",
    "\n",
    "re.search(r'',str,re.IGNORECASE)"
   ]
  },
  {
   "cell_type": "markdown",
   "id": "fc111052",
   "metadata": {},
   "source": [
    "17. What does the . character normally match? What does it match if re.DOTALL is passed as 2nd\n",
    "argument in re.compile()?\n",
    "\n",
    "'.' matches any character except a newline. If the DOTALL flag has been specified, this matches any character including a newline."
   ]
  },
  {
   "cell_type": "markdown",
   "id": "425aac2a",
   "metadata": {},
   "source": [
    "18. If numReg = re.compile(r'\\d+'), what will numRegex.sub('X', '11 drummers, 10 pipers, five rings, 4\n",
    "hen') return?\n",
    "\n",
    "\n",
    "'X drummers, X pipers, five rings, Xhen'"
   ]
  },
  {
   "cell_type": "markdown",
   "id": "d37fb786",
   "metadata": {},
   "source": [
    "19. What does passing re.VERBOSE as the 2nd argument to re.compile() allow to do?\n",
    "\n",
    "ignores whitespaces and comments"
   ]
  },
  {
   "cell_type": "markdown",
   "id": "c68df616",
   "metadata": {},
   "source": [
    "20. How would you write a regex that match a number with comma for every three digits? It must\n",
    "match the given following:\n",
    "'42'\n",
    "'1,234'\n",
    "'6,368,745'\n",
    "\n",
    "but not the following:\n",
    "'12,34,567' (which has only two digits between the commas)\n",
    "'1234' (which lacks commas)\n",
    "\n",
    "\n",
    "d = ['42',\n",
    "'1,234',\n",
    "'6,368,745',\n",
    "'12,34,567',\n",
    "'1234']\n",
    "\n",
    "\n",
    "for each in d:\n",
    "    match = re.search(r'(^\\d{1,3}(\\,\\d{3})*$)',each)\n",
    "    if match:\n",
    "        print(match.group(0))\n"
   ]
  },
  {
   "cell_type": "markdown",
   "id": "f0abe449",
   "metadata": {},
   "source": [
    "21. How would you write a regex that matches the full name of someone whose last name is\n",
    "Watanabe? You can assume that the first name that comes before it will always be one word that\n",
    "begins with a capital letter. The regex must match the following:\n",
    "'Haruto Watanabe'\n",
    "'Alice Watanabe'\n",
    "'RoboCop Watanabe'\n",
    "but not the following:\n",
    "'haruto Watanabe' (where the first name is not capitalized)\n",
    "'Mr. Watanabe' (where the preceding word has a nonletter character)\n",
    "'Watanabe' (which has no first name)\n",
    "'Haruto watanabe' (where Watanabe is not capitalized)\n",
    "\n",
    "\n",
    "l =['Haruto Watanabe',\n",
    "'Alice Watanabe',\n",
    "'RoboCop Watanabe',\n",
    "'haruto Watanabe',\n",
    "'Mr. Watanabe',\n",
    "'Watanabe',\n",
    "'Haruto watanabe']\n",
    "\n",
    "\n",
    "for each_s in l:\n",
    "     match = re.search(r'\\w+\\s+(Watanabe)',each_s)\n",
    "     if match:\n",
    "         print(match)"
   ]
  },
  {
   "cell_type": "markdown",
   "id": "87e4684c",
   "metadata": {},
   "source": [
    "22. How would you write a regex that matches a sentence where the first word is either Alice, Bob,\n",
    "or Carol; the second word is either eats, pets, or throws; the third word is apples, cats, or baseballs;\n",
    "and the sentence ends with a period? This regex should be case-insensitive. It must match the\n",
    "following:\n",
    "'Alice eats apples.'\n",
    "'Bob pets cats.'\n",
    "'Carol throws baseballs.'\n",
    "'Alice throws Apples.'\n",
    "'BOB EATS CATS.'\n",
    "but not the following:\n",
    "'RoboCop eats apples.'\n",
    "'ALICE THROWS FOOTBALLS.'\n",
    "'Carol eats 7 cats.'\n",
    "\n",
    "\n",
    "l=['Alice eats apples.',\n",
    " 'Bob pets cats.',\n",
    " 'Carol throws baseballs.',\n",
    " 'Alice throws Apples.',\n",
    " 'BOB EATS CATS.',\n",
    " 'RoboCop eats apples.',\n",
    " 'ALICE THROWS FOOTBALLS.',\n",
    " 'Carol eats 7 cats.']\n",
    "\n",
    "for each_s in l:\n",
    "     match = re.match(r'(Alice|Bob|Carol)\\s+(eats|pets|throws)\\s+(apples|cats|baseballs)(\\.)',each_s,re.IGNORECASE)\n",
    "     if match:\n",
    "         print(match)"
   ]
  },
  {
   "cell_type": "code",
   "execution_count": null,
   "id": "3cca754d",
   "metadata": {},
   "outputs": [],
   "source": []
  }
 ],
 "metadata": {
  "kernelspec": {
   "display_name": "Python 3 (ipykernel)",
   "language": "python",
   "name": "python3"
  },
  "language_info": {
   "codemirror_mode": {
    "name": "ipython",
    "version": 3
   },
   "file_extension": ".py",
   "mimetype": "text/x-python",
   "name": "python",
   "nbconvert_exporter": "python",
   "pygments_lexer": "ipython3",
   "version": "3.9.7"
  }
 },
 "nbformat": 4,
 "nbformat_minor": 5
}
