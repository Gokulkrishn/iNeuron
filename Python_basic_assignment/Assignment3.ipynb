{
 "cells": [
  {
   "cell_type": "markdown",
   "id": "65ac4e01",
   "metadata": {},
   "source": [
    "1. Why are functions advantageous to have in your programs?\n",
    "\n",
    "Ans: Repeated lines of code can be written in a block of code and it can be called whenever needed. so it reduces redundant/repeated code."
   ]
  },
  {
   "cell_type": "markdown",
   "id": "16a2128e",
   "metadata": {},
   "source": [
    "2. When does the code in a function run: when it's specified or when it's called?\n",
    "\n",
    "Ans: when function is called"
   ]
  },
  {
   "cell_type": "markdown",
   "id": "7b6e20fd",
   "metadata": {},
   "source": [
    "3. What statement creates a function?\n",
    "\n",
    "def <function name>(<function arg>):\n",
    "    function body\n",
    "    return <value>"
   ]
  },
  {
   "cell_type": "markdown",
   "id": "d6c81f1b",
   "metadata": {},
   "source": [
    "4. What is the difference between a function and a function call?\n",
    "\n",
    "Function is block of code which can specified task, which will be ran when invoked by a Function call that invokes function, then that block of code gets executed"
   ]
  },
  {
   "cell_type": "markdown",
   "id": "4cc21986",
   "metadata": {},
   "source": [
    "5. How many global scopes are there in a Python program? How many local scopes?\n",
    "\n",
    "There is one global scope and when a variable is defined inside a function it will have local scope"
   ]
  },
  {
   "cell_type": "markdown",
   "id": "b8430ca5",
   "metadata": {},
   "source": [
    "6. What happens to variables in a local scope when the function call returns?\n",
    "\n",
    "Scope of a variable exist only inside(local scope) funcion, even if function call returns that variable."
   ]
  },
  {
   "cell_type": "markdown",
   "id": "cbb8c2ca",
   "metadata": {},
   "source": [
    "7. What is the concept of a return value? Is it possible to have a return value in an expression?\n",
    "\n",
    "Return value is used to send Python objects back to the caller code. Yes it is possible to rururn value in an expression eg: lambda expression"
   ]
  },
  {
   "cell_type": "markdown",
   "id": "a15e50c0",
   "metadata": {},
   "source": [
    "8. If a function does not have a return statement, what is the return value of a call to that function?\n",
    "\n",
    "None will be return value if function does not have a return statement."
   ]
  },
  {
   "cell_type": "markdown",
   "id": "a0958d9d",
   "metadata": {},
   "source": [
    "9. How do you make a function variable refer to the global variable?\n",
    "\n",
    "We can function variable refer to global variable by using global keyword before that variable"
   ]
  },
  {
   "cell_type": "markdown",
   "id": "a2319ced",
   "metadata": {},
   "source": [
    "10. What is the data type of None?\n",
    "\n",
    "type(None)\n",
    "Out[25]: NoneType"
   ]
  },
  {
   "cell_type": "markdown",
   "id": "7ae203f8",
   "metadata": {},
   "source": [
    "11. What does the sentence import areallyourpetsnamederic do?\n",
    "\n",
    "ModuleNotFoundError: No module named 'areallyourpetsnamederic', unless a module with this name is created"
   ]
  },
  {
   "cell_type": "markdown",
   "id": "0aeac177",
   "metadata": {},
   "source": [
    "12. If you had a bacon() feature in a spam module, what would you call it after importing spam?\n",
    "\n",
    "spam.bacon()"
   ]
  },
  {
   "cell_type": "markdown",
   "id": "73cd995f",
   "metadata": {},
   "source": [
    "13. What can you do to save a programme from crashing if it encounters an error?\n",
    "\n",
    "We should use error handling with try / except block of code\n"
   ]
  },
  {
   "cell_type": "markdown",
   "id": "e80129a1",
   "metadata": {},
   "source": [
    "14. What is the purpose of the try clause? What is the purpose of the except clause?\n",
    "\n",
    "Try and Except statement is used to handle errors. The try block is used execute code. If some error is encountered in try Except will get executed where we can have a meaningful response for that error"
   ]
  },
  {
   "cell_type": "code",
   "execution_count": null,
   "id": "72e965d1",
   "metadata": {},
   "outputs": [],
   "source": []
  }
 ],
 "metadata": {
  "kernelspec": {
   "display_name": "Python 3 (ipykernel)",
   "language": "python",
   "name": "python3"
  },
  "language_info": {
   "codemirror_mode": {
    "name": "ipython",
    "version": 3
   },
   "file_extension": ".py",
   "mimetype": "text/x-python",
   "name": "python",
   "nbconvert_exporter": "python",
   "pygments_lexer": "ipython3",
   "version": "3.9.7"
  }
 },
 "nbformat": 4,
 "nbformat_minor": 5
}
