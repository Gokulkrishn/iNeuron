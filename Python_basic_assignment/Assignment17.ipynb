{
 "cells": [
  {
   "cell_type": "markdown",
   "id": "07e8b476",
   "metadata": {},
   "source": [
    "1. Assign the value 7 to the variable guess_me. Then, write the conditional tests (if, else, and elif) to\n",
    "print the string 'too low' if guess_me is less than 7, 'too high' if greater than 7, and 'just right' if equal\n",
    "to 7.\n",
    "\n",
    "        In [68]: if 7 > guess_me:\n",
    "            ...:     print('too low')\n",
    "            ...: elif 7 < guess_me:\n",
    "            ...:     print('too high')\n",
    "            ...: elif 7 == guess_me:\n",
    "            ...:     print('just right')\n",
    "\n"
   ]
  },
  {
   "cell_type": "markdown",
   "id": "b6359b05",
   "metadata": {},
   "source": [
    "2. Assign the value 7 to the variable guess_me and the value 1 to the variable start. Write a while\n",
    "loop that compares start with guess_me. Print too low if start is less than guess me. If start equals\n",
    "guess_me, print &#39;found it!&#39; and exit the loop. If start is greater than guess_me, print &#39;oops&#39; and exit\n",
    "the loop. Increment start at the end of the loop.\n",
    "\n",
    "        In [80]: while start:\n",
    "            ...:     if start < guess_me:\n",
    "            ...:         print('too low')\n",
    "            ...:     elif start == guess_me:\n",
    "            ...:         print('found it!')\n",
    "            ...:         break\n",
    "            ...:     elif start > guess_me:\n",
    "            ...:         print('oops')\n",
    "            ...:         break\n",
    "            ...:     start +=1\n"
   ]
  },
  {
   "cell_type": "markdown",
   "id": "dd03f1ea",
   "metadata": {},
   "source": [
    "3. Print the following values of the list [3, 2, 1, 0] using a for loop.\n",
    "\n",
    "        In [1]: for i in [3, 2, 1, 0]:\n",
    "           ...:     print(i)\n"
   ]
  },
  {
   "cell_type": "markdown",
   "id": "a8ffb584",
   "metadata": {},
   "source": [
    "4. Use a list comprehension to make a list of the even numbers in range(10)\n",
    "\n",
    "        e = [i for i in range(10) if i%2==0]"
   ]
  },
  {
   "cell_type": "markdown",
   "id": "329c21e0",
   "metadata": {},
   "source": [
    "5. Use a dictionary comprehension to create the dictionary squares. Use range(10) to return the\n",
    "keys, and use the square of each key as its value.\n",
    "\n",
    "        s = {num:num*num for num in range(10)}"
   ]
  },
  {
   "cell_type": "markdown",
   "id": "d01035ae",
   "metadata": {},
   "source": [
    "6. Construct the set odd from the odd numbers in the range using a set comprehension (10).\n",
    "\n",
    "        o = {i for i in range(10) if i%2 == 1}"
   ]
  },
  {
   "cell_type": "markdown",
   "id": "decd1204",
   "metadata": {},
   "source": [
    "7. Use a generator comprehension to return the string &#39;Got &#39; and a number for the numbers in\n",
    "range(10). Iterate through this by using a for loop.\n",
    "\n",
    "        g = ('Got '+str(num) for num in range(10))\n",
    "        for i in g:\n",
    "            print(i)"
   ]
  },
  {
   "cell_type": "markdown",
   "id": "123106e7",
   "metadata": {},
   "source": [
    "8. Define a function called good that returns the list [&#39;Harry&#39;, &#39;Ron&#39;, &#39;Hermione&#39;].\n",
    "\n",
    "        def good():\n",
    "            return [\"Harry\",\"Ron\",\"Hermione\"]"
   ]
  },
  {
   "cell_type": "markdown",
   "id": "6f65ade6",
   "metadata": {},
   "source": [
    "9. Define a generator function called get_odds that returns the odd numbers from range(10). Use a\n",
    "for loop to find and print the third value returned.\n",
    "\n",
    "            In [32]: get_odds = [i for i in range(10) if i%2!=0]\n",
    "\n",
    "            In [33]: get_odds\n",
    "            Out[33]: [1, 3, 5, 7, 9]\n",
    "\n",
    "            In [34]: count = 0\n",
    "\n",
    "            In [35]: for i in get_odds:\n",
    "                ...:     count +=1\n",
    "                ...:     if count%3==0:\n",
    "                ...:         print(i)\n"
   ]
  },
  {
   "cell_type": "markdown",
   "id": "f068b68e",
   "metadata": {},
   "source": [
    "10. Define an exception called OopsException. Raise this exception to see what happens. Then write\n",
    "the code to catch this exception and print &#39;Caught an oops&#39;.\n",
    "\n",
    "        In [26]: class OopsException(Exception):\n",
    "            ...:     pass\n",
    "            ...: \n",
    "            ...: def test(input):\n",
    "            ...:     if input <0:\n",
    "            ...:         raise OopsException('Caught in Oops')\n",
    "            ...: try:\n",
    "            ...:     test(-100)\n",
    "            ...: except Exception as e:\n",
    "            ...:     print(e)\n",
    "            ...: \n"
   ]
  },
  {
   "cell_type": "markdown",
   "id": "cdd0fe4c",
   "metadata": {},
   "source": [
    "11. Use zip() to make a dictionary called movies that pairs these lists: titles = [&#39;Creature of Habit&#39;,\n",
    "&#39;Crewel Fate&#39;] and plots = [&#39;A nun turns into a monster&#39;, &#39;A haunted yarn shop&#39;].\n",
    "\n",
    "        In [21]: d = {}\n",
    "        In [23]: for k,v in zip(titles,plots):\n",
    "            ...:     d[k] = v\n",
    "            ...: \n"
   ]
  }
 ],
 "metadata": {
  "kernelspec": {
   "display_name": "Python 3 (ipykernel)",
   "language": "python",
   "name": "python3"
  },
  "language_info": {
   "codemirror_mode": {
    "name": "ipython",
    "version": 3
   },
   "file_extension": ".py",
   "mimetype": "text/x-python",
   "name": "python",
   "nbconvert_exporter": "python",
   "pygments_lexer": "ipython3",
   "version": "3.9.7"
  }
 },
 "nbformat": 4,
 "nbformat_minor": 5
}
