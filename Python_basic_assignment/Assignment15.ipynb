{
 "cells": [
  {
   "cell_type": "markdown",
   "id": "413454c1",
   "metadata": {},
   "source": [
    "1.How many seconds are in an hour? Use the interactive interpreter as a calculator and multiply the\n",
    "number of seconds in a minute (60) by the number of minutes in an hour (also 60).\n",
    "sol. 60\n",
    "\n",
    "        print(60*60)"
   ]
  },
  {
   "cell_type": "markdown",
   "id": "70b862cb",
   "metadata": {},
   "source": [
    "2. Assign the result from the previous task (seconds in an hour) to a variable called\n",
    "seconds_per_hour.\n",
    "\n",
    "\n",
    "        seconds_per_hour = 60*60\n",
    "        print(seconds_per_hour)\n"
   ]
  },
  {
   "cell_type": "markdown",
   "id": "bf7494dd",
   "metadata": {},
   "source": [
    "3. How many seconds do you think there are in a day? Make use of the variables seconds per hour\n",
    "and minutes per hour.\n",
    "\n",
    "        minutes_per_hour = 60\n",
    "        print(seconds_per_hour*24)"
   ]
  },
  {
   "cell_type": "markdown",
   "id": "101da112",
   "metadata": {},
   "source": [
    "4. Calculate seconds per day again, but this time save the result in a variable called seconds_per_day\n",
    "\n",
    "        seconds_per_day = 24*60*60\n",
    "        print(seconds_per_day)"
   ]
  },
  {
   "cell_type": "markdown",
   "id": "f0189de3",
   "metadata": {},
   "source": [
    "5. Divide seconds_per_day by seconds_per_hour. Use floating-point (/) division.\n",
    "\n",
    "        print(seconds_per_day/seconds_per_hour)"
   ]
  },
  {
   "cell_type": "markdown",
   "id": "e152a6b7",
   "metadata": {},
   "source": [
    "6. Divide seconds_per_day by seconds_per_hour, using integer (//) division. Did this number agree\n",
    "with the floating-point value from the previous question, aside from the final .0?\n",
    "\n",
    "        print(seconds_per_day//seconds_per_hour, end='')\n",
    "        print(' -> yes this values agree with the floating point value from the previous question')"
   ]
  },
  {
   "cell_type": "markdown",
   "id": "218862e0",
   "metadata": {},
   "source": [
    "7. Write a generator, genPrimes, that returns the sequence of prime numbers on successive calls to\n",
    "its next() method: 2, 3, 5, 7, 11, ...\n",
    "\n",
    "        def genPrimes():\n",
    "            n = 0\n",
    "            while True:\n",
    "                if n == 2 or n == 3 :\n",
    "                    yield n\n",
    "                elif ((n-1)%6 == 0 or (n+1)%6 == 0) and n !=1:\n",
    "                    yield n\n",
    "                n = n+1\n",
    "\n",
    "        output = genPrimes()\n",
    "        for ele in range(5):\n",
    "            print(next(output))"
   ]
  },
  {
   "cell_type": "code",
   "execution_count": null,
   "id": "89104d0d",
   "metadata": {},
   "outputs": [],
   "source": []
  }
 ],
 "metadata": {
  "kernelspec": {
   "display_name": "Python 3 (ipykernel)",
   "language": "python",
   "name": "python3"
  },
  "language_info": {
   "codemirror_mode": {
    "name": "ipython",
    "version": 3
   },
   "file_extension": ".py",
   "mimetype": "text/x-python",
   "name": "python",
   "nbconvert_exporter": "python",
   "pygments_lexer": "ipython3",
   "version": "3.9.7"
  }
 },
 "nbformat": 4,
 "nbformat_minor": 5
}
