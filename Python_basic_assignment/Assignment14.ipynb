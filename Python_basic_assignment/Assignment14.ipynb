{
 "cells": [
  {
   "cell_type": "markdown",
   "id": "8b39ce8d",
   "metadata": {},
   "source": [
    "1. What does RGBA stand for?\n",
    "\n",
    "        Red-Green-Blue-Alpha"
   ]
  },
  {
   "cell_type": "markdown",
   "id": "de29bd23",
   "metadata": {},
   "source": [
    "2. From the Pillow module, how do you get the RGBA value of any images?\n",
    "\n",
    "        img = Image.open(‘image.png’)\n",
    "        rgba = img.convert(“RGBA”)\n",
    "        data = rgba.getdata()"
   ]
  },
  {
   "cell_type": "markdown",
   "id": "db9f2be7",
   "metadata": {},
   "source": [
    "3. What is a box tuple, and how does it work?\n",
    "\n",
    "        The box.tuple submodule provides read-only access for the tuple"
   ]
  },
  {
   "cell_type": "markdown",
   "id": "907177e0",
   "metadata": {},
   "source": [
    "4. Use your image and load in notebook then, How can you find out the width and height of an\n",
    "Image object?\n",
    "\n",
    "\n",
    "        img = PIL. Image. open(<image>)\n",
    "        img.size\n",
    " "
   ]
  },
  {
   "cell_type": "markdown",
   "id": "884815af",
   "metadata": {},
   "source": [
    "5. What method would you call to get Image object for a 100×100 image, excluding the lower-left\n",
    "quarter of it?\n",
    "    \n",
    "\n",
    "        from PIL import Image\n",
    "        img = Image.open('Pic.jpg')\n",
    "        new_img = img.crop((0,50,50,50))\n",
    "\n"
   ]
  },
  {
   "cell_type": "markdown",
   "id": "2f866363",
   "metadata": {},
   "source": [
    "6. After making changes to an Image object, how could you save it as an image file?\n",
    "\n",
    "        img.save('cropped.png')"
   ]
  },
  {
   "cell_type": "markdown",
   "id": "80abde64",
   "metadata": {},
   "source": [
    "7. What module contains Pillow’s shape-drawing code?\n",
    "\n",
    "        ImageDraw.Draw module"
   ]
  },
  {
   "cell_type": "markdown",
   "id": "eb2f5fe5",
   "metadata": {},
   "source": [
    "8. Image objects do not have drawing methods. What kind of object does? How do you get this kind\n",
    "of object?\n",
    "\n",
    "        ImageDraw objects have shape-drawing methods such as point(), line(), or rectangle().They are returned by passing the Image object to the ImageDraw.Draw() function."
   ]
  }
 ],
 "metadata": {
  "kernelspec": {
   "display_name": "Python 3 (ipykernel)",
   "language": "python",
   "name": "python3"
  },
  "language_info": {
   "codemirror_mode": {
    "name": "ipython",
    "version": 3
   },
   "file_extension": ".py",
   "mimetype": "text/x-python",
   "name": "python",
   "nbconvert_exporter": "python",
   "pygments_lexer": "ipython3",
   "version": "3.9.7"
  }
 },
 "nbformat": 4,
 "nbformat_minor": 5
}
