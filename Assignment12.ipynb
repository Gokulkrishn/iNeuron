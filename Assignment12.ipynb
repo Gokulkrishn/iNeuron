{
 "cells": [
  {
   "cell_type": "markdown",
   "id": "77508cff",
   "metadata": {},
   "source": [
    "1. In what modes should the PdfFileReader() and PdfFileWriter() File objects will be opened?\n",
    "\n",
    "\n",
    "        PdfFileReader() read-binary mode by passing 'rb'\n",
    "        PdfFileWriter() write-binary mode with 'wb'"
   ]
  },
  {
   "cell_type": "markdown",
   "id": "0647889e",
   "metadata": {},
   "source": [
    "2. From a PdfFileReader object, how do you get a Page object for page 5?\n",
    "\n",
    "        pageObj = pdfReader.getPage(0)\n",
    "        print(pageObj.extractText())"
   ]
  },
  {
   "cell_type": "markdown",
   "id": "295c9883",
   "metadata": {},
   "source": [
    "3. What PdfFileReader variable stores the number of pages in the PDF document?\n",
    "\n",
    "        numPages or getNumPages()"
   ]
  },
  {
   "cell_type": "markdown",
   "id": "2ef6db58",
   "metadata": {},
   "source": [
    "4. If a PdfFileReader object’s PDF is encrypted with the password swordfish, what must you do\n",
    "before you can obtain Page objects from it?\n",
    "\n",
    "        we have to '.encrypt(<password>)'"
   ]
  },
  {
   "cell_type": "markdown",
   "id": "bbd68a14",
   "metadata": {},
   "source": [
    "5. What methods do you use to rotate a page?\n",
    "\n",
    "        with the rotateClockwise function"
   ]
  },
  {
   "cell_type": "markdown",
   "id": "f27849a7",
   "metadata": {},
   "source": [
    "6. What is the difference between a Run object and a Paragraph object?\n",
    "\n",
    "         A Run object is a contiguous run of text with the same style. A new Run object is needed whenever the text style changes."
   ]
  },
  {
   "cell_type": "markdown",
   "id": "4917b24a",
   "metadata": {},
   "source": [
    "7. How do you obtain a list of Paragraph objects for a Document object that’s stored in a variable\n",
    "named doc?\n",
    "        from docx import Document\n",
    "        doc = Document(\"sample_file.docx\")\n",
    "        doc.paragraphs"
   ]
  },
  {
   "cell_type": "markdown",
   "id": "8b440bf3",
   "metadata": {},
   "source": [
    "8. What type of object has bold, underline, italic, strike, and outline variables?\n",
    "\n",
    "        Run object has bold, underline, italic, strike, and outline variables. "
   ]
  },
  {
   "cell_type": "markdown",
   "id": "1a1710c5",
   "metadata": {},
   "source": [
    "9. What is the difference between False, True, and None for the bold variable?\n",
    "\n",
    "        bold = True  # Style Set to Bold\n",
    "        bold = False # Style Not Set to Bold\n",
    "        bold = None # Style is Not Applicable"
   ]
  },
  {
   "cell_type": "markdown",
   "id": "3dc01543",
   "metadata": {},
   "source": [
    "10. How do you create a Document object for a new Word document?\n",
    "\n",
    "        from docx import Document\n",
    "        new_word_doc = Document()\n"
   ]
  },
  {
   "cell_type": "markdown",
   "id": "627db9ac",
   "metadata": {},
   "source": [
    "11. How do you add a paragraph with the text &#39;Hello, there!&#39; to a Document object stored in a\n",
    "variable named doc?\n",
    "\n",
    "        from docx import Document\n",
    "        document = Document()\n",
    "        document.add_paragraph(\"Text here\")\n",
    "        document.save('test.docx')"
   ]
  },
  {
   "cell_type": "markdown",
   "id": "d1c46d7a",
   "metadata": {},
   "source": [
    "12. What integers represent the levels of headings available in Word documents?\n",
    "\n",
    "                 The levels for a heading in a word document can be specified by using the level attribute inside the add_heading method. There are a total of 5 levels statring for 0 t0 4. where level 0 makes a headline with the horizontal line below the text, whereas the heading level 1 is the main heading. Similarly, the other headings are sub-heading with their's font-sizes in decreasing order."
   ]
  },
  {
   "cell_type": "code",
   "execution_count": null,
   "id": "e5254f45",
   "metadata": {},
   "outputs": [],
   "source": []
  }
 ],
 "metadata": {
  "kernelspec": {
   "display_name": "Python 3 (ipykernel)",
   "language": "python",
   "name": "python3"
  },
  "language_info": {
   "codemirror_mode": {
    "name": "ipython",
    "version": 3
   },
   "file_extension": ".py",
   "mimetype": "text/x-python",
   "name": "python",
   "nbconvert_exporter": "python",
   "pygments_lexer": "ipython3",
   "version": "3.9.7"
  }
 },
 "nbformat": 4,
 "nbformat_minor": 5
}
