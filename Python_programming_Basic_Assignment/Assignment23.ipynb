{
 "cells": [
  {
   "cell_type": "markdown",
   "id": "b59bc2c1",
   "metadata": {},
   "source": [
    "Question 1\n",
    "Create a function that takes a number as an argument and returns True or False depending\n",
    "on whether the number is symmetrical or not. A number is symmetrical when it is the same as\n",
    "its reverse.\n",
    "Examples\n",
    "is_symmetrical(7227) ➞ True\n",
    "is_symmetrical(12567) ➞ False\n",
    "is_symmetrical(44444444) ➞ True\n",
    "is_symmetrical(9939) ➞ False\n",
    "is_symmetrical(1112111) ➞ True\n",
    "\n",
    "        In [69]: def is_symmetrical(num):\n",
    "            ...:     return int(''.join(list(str(num))[::-1])) == num\n",
    "            ...: "
   ]
  },
  {
   "cell_type": "markdown",
   "id": "3d86b896",
   "metadata": {},
   "source": [
    "Question 2\n",
    "Given a string of numbers separated by a comma and space, return the product of the\n",
    "numbers.\n",
    "Examples\n",
    "multiply_nums(&quot;2, 3&quot;) ➞ 6\n",
    "multiply_nums(&quot;1, 2, 3, 4&quot;) ➞ 24\n",
    "multiply_nums(&quot;54, 75, 453, 0&quot;) ➞ 0\n",
    "multiply_nums(&quot;10, -2&quot;) ➞ -20\n",
    "\n",
    "        In [91]: def multiply_nums(string):\n",
    "            ...:     return reduce(lambda a,b:int(a)*int(b), string.split(','))\n",
    "            ...: \n"
   ]
  },
  {
   "cell_type": "markdown",
   "id": "4c8510e7",
   "metadata": {},
   "source": [
    "Question 3\n",
    "Create a function that squares every digit of a number.\n",
    "Examples\n",
    "square_digits(9119) ➞ 811181\n",
    "square_digits(2483) ➞ 416649\n",
    "square_digits(3212) ➞ 9414\n",
    "Notes\n",
    "The function receives an integer and must return an integer.\n",
    "\n",
    "\n",
    "        In [115]: def square_digits(num):\n",
    "             ...:     return int(''.join([str(j) for j in [int(i)*int(i) for i in (list(str(num)))]]))\n",
    "             ...: "
   ]
  },
  {
   "cell_type": "markdown",
   "id": "f8491d75",
   "metadata": {},
   "source": [
    "\n",
    "Question 4\n",
    "Create a function that sorts a list and removes all duplicate items from it.\n",
    "Examples\n",
    "setify([1, 3, 3, 5, 5]) ➞ [1, 3, 5]\n",
    "setify([4, 4, 4, 4]) ➞ [4]\n",
    "setify([5, 7, 8, 9, 10, 15]) ➞ [5, 7, 8, 9, 10, 15]\n",
    "setify([3, 3, 3, 2, 1]) ➞ [1, 2, 3]\n",
    "\n",
    "        In [128]: def setify(l):\n",
    "             ...:     return (sorted(set(l)))\n",
    "             ...: "
   ]
  },
  {
   "cell_type": "markdown",
   "id": "756c8a36",
   "metadata": {},
   "source": [
    "Question 5\n",
    "Create a function that returns the mean of all digits.\n",
    "Examples\n",
    "mean(42) ➞ 3\n",
    "mean(12345) ➞ 3\n",
    "mean(666) ➞ 6\n",
    "Notes\n",
    " The mean of all digits is the sum of digits / how many digits there are (e.g. mean of digits in\n",
    "512 is (5+1+2)/3(number of digits) = 8/3=2).\n",
    " The mean will always be an integer.\n",
    "\n",
    "        In [146]: def mean(num):\n",
    "             ...:     l = len(list(str(num)))\n",
    "             ...:     return int((reduce(lambda a,b:int(a)+int(b), list(str(num))))/l)\n",
    "             ...: \n"
   ]
  },
  {
   "cell_type": "code",
   "execution_count": null,
   "id": "9314e5d4",
   "metadata": {},
   "outputs": [],
   "source": []
  }
 ],
 "metadata": {
  "kernelspec": {
   "display_name": "Python 3 (ipykernel)",
   "language": "python",
   "name": "python3"
  },
  "language_info": {
   "codemirror_mode": {
    "name": "ipython",
    "version": 3
   },
   "file_extension": ".py",
   "mimetype": "text/x-python",
   "name": "python",
   "nbconvert_exporter": "python",
   "pygments_lexer": "ipython3",
   "version": "3.9.7"
  }
 },
 "nbformat": 4,
 "nbformat_minor": 5
}
