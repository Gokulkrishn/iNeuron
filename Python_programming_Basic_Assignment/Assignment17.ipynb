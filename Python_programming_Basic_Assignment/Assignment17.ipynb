{
 "cells": [
  {
   "cell_type": "markdown",
   "id": "8c9a0836",
   "metadata": {},
   "source": [
    "Question1. Create a function that takes three arguments a, b, c and returns the sum of the\n",
    "numbers that are evenly divided by c from the range a, b inclusive.\n",
    "Examples\n",
    "evenly_divisible(1, 10, 20) ➞ 0\n",
    "# No number between 1 and 10 can be evenly divided by 20.\n",
    "evenly_divisible(1, 10, 2) ➞ 30\n",
    "# 2 + 4 + 6 + 8 + 10 = 30\n",
    "evenly_divisible(1, 10, 3) ➞ 18\n",
    "# 3 + 6 + 9 = 18\n",
    "\n",
    "    In [307]: def find_sum(a,b,c):\n",
    "         ...:     sum = 0\n",
    "         ...:     for i in range(a,b+1):\n",
    "         ...:         if i%c == 0:\n",
    "         ...:             sum +=i\n",
    "         ...:     return sum\n"
   ]
  },
  {
   "cell_type": "markdown",
   "id": "04464a4d",
   "metadata": {},
   "source": [
    "Question2. Create a function that returns True if a given inequality expression is correct and\n",
    "False otherwise.\n",
    "Examples\n",
    "correct_signs(&quot;3 &lt; 7 &lt; 11&quot;) ➞ True\n",
    "correct_signs(&quot;13 &gt; 44 &gt; 33 &gt; 1&quot;) ➞ False\n",
    "correct_signs(&quot;1 &lt; 2 &lt; 6 &lt; 9 &gt; 3&quot;) ➞ True\n",
    "\n",
    "        In [315]: def func(expression):\n",
    "             ...:     return eval(expression)\n",
    "             ...: \n"
   ]
  },
  {
   "cell_type": "markdown",
   "id": "224b82f0",
   "metadata": {},
   "source": [
    "Question3. Create a function that replaces all the vowels in a string with a specified character.\n",
    "Examples\n",
    "replace_vowels(&quot;the aardvark&quot;, &quot;#&quot;) ➞ &quot;th# ##rdv#rk&quot;\n",
    "replace_vowels(&quot;minnie mouse&quot;, &quot;?&quot;) ➞ &quot;m?nn?? m??s?&quot;\n",
    "replace_vowels(&quot;shakespeare&quot;, &quot;*&quot;) ➞ &quot;sh*k*sp**r*&quot;\n",
    "\n",
    "    \n",
    "        In [339]: def replace_vowels(pat,string):\n",
    "             ...:     return re.sub(r'[aeiou]',pat,string)\n",
    "             ...: \n",
    "             ...: \n",
    "\n",
    "        In [340]: replace_vowels('!','the aardvark')\n",
    "        Out[340]: 'th! !!rdv!rk'\n"
   ]
  },
  {
   "cell_type": "markdown",
   "id": "4e179ded",
   "metadata": {},
   "source": [
    "Question4. Write a function that calculates the factorial of a number recursively.\n",
    "Examples\n",
    "factorial(5) ➞ 120\n",
    "factorial(3) ➞ 6\n",
    "factorial(1) ➞ 1\n",
    "factorial(0) ➞ 1\n",
    "\n",
    "        In [341]: def fact(num):\n",
    "             ...:     if num ==1:\n",
    "             ...:         return 1\n",
    "             ...:     return fact(num-1)*num\n",
    "             ...: \n"
   ]
  },
  {
   "cell_type": "markdown",
   "id": "fb941a9c",
   "metadata": {},
   "source": [
    "Question 5\n",
    "Hamming distance is the number of characters that differ between two strings.\n",
    "To illustrate:\n",
    "String1: &quot;abcbba&quot;\n",
    "String2: &quot;abcbda&quot;\n",
    "Hamming Distance: 1 - &quot;b&quot; vs. &quot;d&quot; is the only difference.\n",
    "Create a function that computes the hamming distance between two strings.\n",
    "Examples\n",
    "hamming_distance(&quot;abcde&quot;, &quot;bcdef&quot;) ➞ 5\n",
    "hamming_distance(&quot;abcde&quot;, &quot;abcde&quot;) ➞ 0\n",
    "hamming_distance(&quot;strong&quot;, &quot;strung&quot;) ➞ 1\n",
    "\n",
    "        In [348]: def hamming_distance(str1,str2):\n",
    "             ...:     return len([(i,j) for i,j in zip(str1,str2) if i !=j])\n"
   ]
  },
  {
   "cell_type": "code",
   "execution_count": null,
   "id": "b3a6bba5",
   "metadata": {},
   "outputs": [],
   "source": []
  }
 ],
 "metadata": {
  "kernelspec": {
   "display_name": "Python 3 (ipykernel)",
   "language": "python",
   "name": "python3"
  },
  "language_info": {
   "codemirror_mode": {
    "name": "ipython",
    "version": 3
   },
   "file_extension": ".py",
   "mimetype": "text/x-python",
   "name": "python",
   "nbconvert_exporter": "python",
   "pygments_lexer": "ipython3",
   "version": "3.9.7"
  }
 },
 "nbformat": 4,
 "nbformat_minor": 5
}
