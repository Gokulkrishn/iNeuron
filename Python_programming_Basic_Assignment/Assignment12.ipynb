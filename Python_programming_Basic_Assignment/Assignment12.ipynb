{
 "cells": [
  {
   "cell_type": "markdown",
   "id": "111073c5",
   "metadata": {},
   "source": [
    "1. Write a Python program to Extract Unique values dictionary values?\n",
    "\n",
    "        {ele for val in test_dict.values() for ele in val}"
   ]
  },
  {
   "cell_type": "markdown",
   "id": "b3c69d58",
   "metadata": {},
   "source": [
    "2. Write a Python program to find the sum of all items in a dictionary?\n",
    "        In [188]: dict = {'a': 100, 'b':200, 'c':300}\n",
    "\n",
    "        In [189]: for i in dict.keys():\n",
    "             ...:     sum +=dict[i]\n"
   ]
  },
  {
   "cell_type": "markdown",
   "id": "184742a4",
   "metadata": {},
   "source": [
    "3. Write a Python program to Merging two Dictionaries?\n",
    "        In [197]: dict1 = {'a': 10, 'b': 8}\n",
    "\n",
    "        In [198]:     dict2 = {'d': 6, 'c': 4}\n",
    "\n",
    "        In [199]: {**dict2,**dict1}\n",
    "        Out[199]: {'d': 6, 'c': 4, 'a': 10, 'b': 8}\n"
   ]
  },
  {
   "cell_type": "markdown",
   "id": "4a8ed1ab",
   "metadata": {},
   "source": [
    "4. Write a Python program to convert key-values list to flat dictionary?\n",
    "\n",
    "        In [6]: d = {'numbers':[1,2,3,4], 'names':['Siva','Rama','Krishna','K']}\n",
    "\n",
    "        In [7]: di = dict(zip(d['numbers'],d['names']))\n",
    "\n",
    "        In [8]: di\n",
    "        Out[8]: {1: 'Siva', 2: 'Rama', 3: 'Krishna', 4: 'K'}\n"
   ]
  },
  {
   "cell_type": "markdown",
   "id": "f0f0e227",
   "metadata": {},
   "source": [
    "5. Write a Python program to insertion at the beginning in OrderedDict?\n",
    "\n",
    "        from collections import OrderedDict\n",
    "        dict1 = OrderedDict([('a', '1'), ('b', '2')])\n",
    "        dict2 = OrderedDict([(\"c\", '3'), (\"d\", '4')])\n",
    "\n",
    "        dict3 = OrderedDict(list(dict2.items()) + list(dict1.items()))\n"
   ]
  },
  {
   "cell_type": "markdown",
   "id": "4ff10fd8",
   "metadata": {},
   "source": [
    "6. Write a Python program to check order of character in string using OrderedDict()?\n",
    "\n",
    "        In [74]: string = 'engineers rock'\n",
    "            ...: pat = 'egr'\n",
    "            ...: def st_check(string,pat):\n",
    "            ...:     ind = 0\n",
    "            ...:     st = OrderedDict.fromkeys(string)\n",
    "            ...:     for k,v in st.items():\n",
    "            ...:         if k == pat[ind]:\n",
    "            ...:             ind +=1\n",
    "            ...:         if ind == len(pat):\n",
    "            ...:             return True\n",
    "            ...:     return False\n"
   ]
  },
  {
   "cell_type": "markdown",
   "id": "1e83598f",
   "metadata": {},
   "source": [
    "7. Write a Python program to sort Python Dictionaries by Key or Value?\n",
    "\n",
    "        OrderedDict(sorted(dict4.items()))"
   ]
  },
  {
   "cell_type": "code",
   "execution_count": null,
   "id": "297f2e99",
   "metadata": {},
   "outputs": [],
   "source": []
  }
 ],
 "metadata": {
  "kernelspec": {
   "display_name": "Python 3 (ipykernel)",
   "language": "python",
   "name": "python3"
  },
  "language_info": {
   "codemirror_mode": {
    "name": "ipython",
    "version": 3
   },
   "file_extension": ".py",
   "mimetype": "text/x-python",
   "name": "python",
   "nbconvert_exporter": "python",
   "pygments_lexer": "ipython3",
   "version": "3.9.7"
  }
 },
 "nbformat": 4,
 "nbformat_minor": 5
}
