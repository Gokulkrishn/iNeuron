{
 "cells": [
  {
   "cell_type": "markdown",
   "id": "d6eed7fa",
   "metadata": {},
   "source": [
    "1. Write a Python program to check if the given number is a Disarium Number?\n",
    "\n",
    "        In [247]: def check_Disarium(num):\n",
    "             ...:     sum = 0\n",
    "             ...:     for i,j in enumerate(list(str(num)),start=1):\n",
    "             ...:         sum += int(j)**i\n",
    "             ...:     if sum == int(num):\n",
    "             ...:         return 'Yes Disarium number'\n",
    "             ...:     else:\n",
    "             ...:         return ' Not a Disarium number'\n"
   ]
  },
  {
   "cell_type": "markdown",
   "id": "e1754683",
   "metadata": {},
   "source": [
    "2. Write a Python program to print all disarium numbers between 1 to 100?\n",
    "\n",
    "         In [247]: def check_Disarium(num):\n",
    "              ...:     sum = 0\n",
    "              ...:     for i,j in enumerate(list(str(num)),start=1):\n",
    "              ...:         sum += int(j)**i\n",
    "              ...:     if sum == int(num):\n",
    "              ...:         return 'Yes Disarium number'\n",
    "              ...:     else:\n",
    "              ...:         return ' Not a Disarium number'\n",
    "        In [254]: disarium_list = []\n",
    "             ...: for i in range(1,101):\n",
    "             ...:     if check_Disarium(i) == 'Yes Disarium number':\n",
    "             ...:         disarium_list.append(i)\n"
   ]
  },
  {
   "cell_type": "markdown",
   "id": "20e5fe6c",
   "metadata": {},
   "source": [
    "3. Write a Python program to check if the given number is Happy Number?\n",
    "        In [45]: def happy_num(num):\n",
    "            ...:     global happy\n",
    "            ...:     if num == 1 or num == 7:\n",
    "            ...:         happy = 1\n",
    "            ...:     elif num >9:\n",
    "            ...:         sum = 0\n",
    "            ...:         for i in list(str(num)):\n",
    "            ...:             sum += int(i)*int(i)\n",
    "            ...:         happy_num(sum)\n",
    "            ...:     else:\n",
    "            ...:         happy = 0\n",
    "            ...:     return True if happy == 1 else False\n"
   ]
  },
  {
   "cell_type": "markdown",
   "id": "53e564f1",
   "metadata": {},
   "source": [
    "4. Write a Python program to print all happy numbers between 1 and 100?\n",
    "\n",
    "        In [44]: for i in range(1,101):\n",
    "            ...:     if happy_num(i):\n",
    "            ...:         print(i)\n",
    "            ...: \n"
   ]
  },
  {
   "cell_type": "markdown",
   "id": "0884a2dd",
   "metadata": {},
   "source": [
    "5. Write a Python program to determine whether the given number is a Harshad Number?\n",
    "\n",
    "    In [320]: def harshad(num):\n",
    "         ...:     sum = 0\n",
    "         ...:     for i in list(str(num)):\n",
    "         ...:         sum +=int(i)\n",
    "         ...:     if num == sum:\n",
    "         ...:         return 'Yes Harshad number'\n",
    "\n"
   ]
  },
  {
   "cell_type": "markdown",
   "id": "fb032045",
   "metadata": {},
   "source": [
    "6. Write a Python program to print all pronic numbers between 1 and 100?\n",
    "\n",
    "    In [360]: def pronic(num):\n",
    "         ...:     for i in range(1,num):\n",
    "         ...:         if num%i==0:\n",
    "         ...:             if (i*(i+1)) == num or (i*(i-1))==num:\n",
    "         ...:                 return 'Pronic'\n",
    "         ...: \n",
    "\n",
    "    In [361]: pronic_list = []\n",
    "         ...: for i in range(1,101):\n",
    "         ...:     if pronic(i) == 'Pronic':\n",
    "         ...:         pronic_list.append(i)\n",
    "         ...: \n",
    "\n",
    "    In [362]: pronic_list\n",
    "    Out[362]: [2, 6, 12, 20, 30, 42, 56, 72, 90]\n"
   ]
  },
  {
   "cell_type": "code",
   "execution_count": null,
   "id": "a9f22136",
   "metadata": {},
   "outputs": [],
   "source": []
  }
 ],
 "metadata": {
  "kernelspec": {
   "display_name": "Python 3 (ipykernel)",
   "language": "python",
   "name": "python3"
  },
  "language_info": {
   "codemirror_mode": {
    "name": "ipython",
    "version": 3
   },
   "file_extension": ".py",
   "mimetype": "text/x-python",
   "name": "python",
   "nbconvert_exporter": "python",
   "pygments_lexer": "ipython3",
   "version": "3.9.7"
  }
 },
 "nbformat": 4,
 "nbformat_minor": 5
}
