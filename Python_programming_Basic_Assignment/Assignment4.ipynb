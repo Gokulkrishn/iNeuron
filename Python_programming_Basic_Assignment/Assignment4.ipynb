{
 "cells": [
  {
   "cell_type": "markdown",
   "id": "cbe00578",
   "metadata": {},
   "source": [
    "1. Write a Python Program to Find the Factorial of a Number?\n",
    "\n",
    "        In [8]: def func(n):\n",
    "           ...:     fact=1\n",
    "           ...:     for i in range(1,n+1):\n",
    "           ...:         fact = fact*i\n",
    "           ...:     return fact\n"
   ]
  },
  {
   "cell_type": "markdown",
   "id": "c3b0e183",
   "metadata": {},
   "source": [
    "2. Write a Python Program to Display the multiplication Table?\n",
    "\n",
    "        In [20]: def table(num):\n",
    "            ...:     for i in range(1,11):\n",
    "            ...:         print(str(num) +' X ' +str(i) +' = ' +str(num*i))\n"
   ]
  },
  {
   "cell_type": "markdown",
   "id": "6de24ce4",
   "metadata": {},
   "source": [
    "3. Write a Python Program to Print the Fibonacci sequence?\n",
    "\n",
    "    In [67]: def fib_func(num):\n",
    "        ...:     fib_series=[];i=1;j=1\n",
    "        ...:     for _ in range(num):\n",
    "        ...:         fib_series.append(i)\n",
    "        ...:         i,j=j,i+j\n",
    "        ...:     return fib_series\n"
   ]
  },
  {
   "cell_type": "markdown",
   "id": "f96f6a84",
   "metadata": {},
   "source": [
    "4. Write a Python Program to Check Armstrong Number?\n",
    "\n",
    "    In [99]: def armstrong(num):\n",
    "        ...:     n = num\n",
    "        ...:     sum_digits = 0\n",
    "        ...:     while num:\n",
    "        ...:         digit = num%10\n",
    "        ...:         num = num//10\n",
    "        ...:         sum_digits += digit**3\n",
    "        ...:     return 'Yes Armstrong' if n==sum_digits else 'Not Armstrong'\n"
   ]
  },
  {
   "cell_type": "markdown",
   "id": "6c4b7a25",
   "metadata": {},
   "source": [
    "5. Write a Python Program to Find Armstrong Number in an Interval?\n",
    "\n",
    "    In [103]: def armstrong(start,end):\n",
    "         ...:     armstrong_list = []\n",
    "         ...:     for num in range(start,end):\n",
    "         ...:         n = num\n",
    "         ...:         sum_digits = 0\n",
    "         ...:         while num:\n",
    "         ...:             digit = num%10\n",
    "         ...:             num = num//10\n",
    "         ...:             sum_digits += digit**3\n",
    "         ...:         if n==sum_digits:\n",
    "         ...:             armstrong_list.append(n)\n",
    "         ...:     return armstrong_list\n"
   ]
  },
  {
   "cell_type": "markdown",
   "id": "63bbff24",
   "metadata": {},
   "source": [
    "6. Write a Python Program to Find the Sum of Natural Numbers?\n",
    "\n",
    "            :    sum = 0\n",
    "         ...:    # use while loop to iterate until zero\n",
    "         ...:    while(num > 0):\n",
    "         ...:        sum += num\n",
    "         ...:        num -= 1\n",
    "         ...:    print(\"The sum is\", sum)\n"
   ]
  },
  {
   "cell_type": "markdown",
   "id": "f2750771",
   "metadata": {},
   "source": []
  }
 ],
 "metadata": {
  "kernelspec": {
   "display_name": "Python 3 (ipykernel)",
   "language": "python",
   "name": "python3"
  },
  "language_info": {
   "codemirror_mode": {
    "name": "ipython",
    "version": 3
   },
   "file_extension": ".py",
   "mimetype": "text/x-python",
   "name": "python",
   "nbconvert_exporter": "python",
   "pygments_lexer": "ipython3",
   "version": "3.9.7"
  }
 },
 "nbformat": 4,
 "nbformat_minor": 5
}
