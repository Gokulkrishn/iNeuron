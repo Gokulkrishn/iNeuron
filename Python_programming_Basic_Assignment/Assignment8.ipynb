{
 "cells": [
  {
   "cell_type": "markdown",
   "id": "5480220a",
   "metadata": {},
   "source": [
    "1. Write a Python Program to Add Two Matrices?\n",
    "        In [59]: [[X[i][j]+Y[i][j] for j in range(len(X[i]))] for i in range(len(X))]"
   ]
  },
  {
   "cell_type": "markdown",
   "id": "56237841",
   "metadata": {},
   "source": [
    "2. Write a Python Program to Multiply Two Matrices?\n",
    "\n",
    "    In [148]: C = []\n",
    "         ...: for i in X:\n",
    "         ...:     S = []\n",
    "         ...:     for j in range(len(Y[0])):\n",
    "         ...:         l = [a*b for a,b in zip([c[j] for c in Y],i)]\n",
    "         ...:         S.append(functools.reduce(lambda a,b:a+b,l))\n",
    "         ...:     C.append(S)\n"
   ]
  },
  {
   "cell_type": "markdown",
   "id": "b7497eed",
   "metadata": {},
   "source": [
    "3. Write a Python Program to Transpose a Matrix?\n",
    "\n",
    "        In [80]: AT=[]\n",
    "            ...: for i in range(len(A)):\n",
    "            ...:     AT.append([c[i] for c in A])\n"
   ]
  },
  {
   "cell_type": "markdown",
   "id": "02bbec12",
   "metadata": {},
   "source": [
    "4. Write a Python Program to Sort Words in Alphabetic Order?\n",
    "\n",
    "        In [210]: my_str\n",
    "        Out[210]: 'hello this is an example with cased letters'\n",
    "\n",
    "        In [212]: l =my_str.split(' ')\n",
    "\n",
    "        In [214]: l.sort()\n",
    "\n",
    "        In [215]: l\n",
    "        Out[215]: ['an', 'cased', 'example', 'hello', 'is', 'letters', 'this', 'with']\n"
   ]
  },
  {
   "cell_type": "markdown",
   "id": "ffbc559a",
   "metadata": {},
   "source": [
    "5. Write a Python Program to Remove Punctuation From a String?\n",
    "\n",
    "        punc = !\"#$%&'()*+,-./:;?@[\\]^_`{|}~\n",
    "    \n",
    "        In [190]: for i in my_str:\n",
    "             ...:     if i in punc:\n",
    "             ...:         my_str = my_str.replace(i,\"\")\n",
    "    "
   ]
  },
  {
   "cell_type": "code",
   "execution_count": null,
   "id": "a551814e",
   "metadata": {},
   "outputs": [],
   "source": []
  }
 ],
 "metadata": {
  "kernelspec": {
   "display_name": "Python 3 (ipykernel)",
   "language": "python",
   "name": "python3"
  },
  "language_info": {
   "codemirror_mode": {
    "name": "ipython",
    "version": 3
   },
   "file_extension": ".py",
   "mimetype": "text/x-python",
   "name": "python",
   "nbconvert_exporter": "python",
   "pygments_lexer": "ipython3",
   "version": "3.9.7"
  }
 },
 "nbformat": 4,
 "nbformat_minor": 5
}
