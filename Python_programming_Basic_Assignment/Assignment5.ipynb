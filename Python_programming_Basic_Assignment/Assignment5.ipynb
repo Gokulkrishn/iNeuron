{
 "cells": [
  {
   "cell_type": "markdown",
   "id": "8dda68e4",
   "metadata": {},
   "source": [
    "1. Write a Python Program to Find LCM?\n",
    "    In [141]: a = 32; b = 98\n",
    "    In [139]: for i in range(1,(a*b)+1):\n",
    "         ...:     if i%a==0 and i%b==0:\n",
    "         ...:         break\n"
   ]
  },
  {
   "cell_type": "markdown",
   "id": "60e5bbe9",
   "metadata": {},
   "source": [
    "2. Write a Python Program to Find HCF?\n",
    "\n",
    "\n",
    "    In [166]: def gcd(a,b):\n",
    "         ...:     if a>b:\n",
    "         ...:         small=b\n",
    "         ...:     else:\n",
    "         ...:         small=a\n",
    "         ...:     for i in range(1,small+1):\n",
    "         ...:         if (a%i==0) and (b%i==0):\n",
    "         ...:             gcd =i\n",
    "         ...:     return gcd\n",
    "         ...: \n",
    "\n",
    "    In [167]: gcd(18,27)\n",
    "    Out[167]: 9\n",
    "\n"
   ]
  },
  {
   "cell_type": "markdown",
   "id": "d9689712",
   "metadata": {},
   "source": [
    "3. Write a Python Program to Convert Decimal to Binary, Octal and Hexadecimal?\n",
    "\n",
    "    bin(dec)\n",
    "    oct(dec)\n",
    "    hex(dec)\n"
   ]
  },
  {
   "cell_type": "markdown",
   "id": "81a74926",
   "metadata": {},
   "source": [
    "4. Write a Python Program To Find ASCII value of a character?\n",
    "\n",
    "    ord(c)"
   ]
  },
  {
   "cell_type": "markdown",
   "id": "27be6cbf",
   "metadata": {},
   "source": [
    "5. Write a Python Program to Make a Simple Calculator with 4 basic mathematical operations?\n",
    "\n",
    "    def add(x, y):\n",
    "        return x + y\n",
    "\n",
    "    def subtract(x, y):\n",
    "        return x - y\n",
    "\n",
    "    def multiply(x, y):\n",
    "        return x * y\n",
    "\n",
    "    def divide(x, y):\n",
    "        return x / y"
   ]
  },
  {
   "cell_type": "code",
   "execution_count": null,
   "id": "2604e2c1",
   "metadata": {},
   "outputs": [],
   "source": []
  }
 ],
 "metadata": {
  "kernelspec": {
   "display_name": "Python 3 (ipykernel)",
   "language": "python",
   "name": "python3"
  },
  "language_info": {
   "codemirror_mode": {
    "name": "ipython",
    "version": 3
   },
   "file_extension": ".py",
   "mimetype": "text/x-python",
   "name": "python",
   "nbconvert_exporter": "python",
   "pygments_lexer": "ipython3",
   "version": "3.9.7"
  }
 },
 "nbformat": 4,
 "nbformat_minor": 5
}
