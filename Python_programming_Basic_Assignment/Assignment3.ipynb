{
 "cells": [
  {
   "cell_type": "markdown",
   "id": "841d15da",
   "metadata": {},
   "source": [
    "1. Write a Python Program to Check if a Number is Positive, Negative or Zero?\n",
    "        In [84]: if num > 0:\n",
    "        ...:     print('Print number is positive')\n",
    "        ...: elif num < 0:\n",
    "        ...:     print('print number is negative')\n",
    "        ...: elif num == 0:\n",
    "        ...:     print('Number is zero')\n",
    "        ...: \n"
   ]
  },
  {
   "cell_type": "markdown",
   "id": "74237d6b",
   "metadata": {},
   "source": [
    "2. Write a Python Program to Check if a Number is Odd or Even?\n",
    "        In [94]: if num%2 ==0:\n",
    "            ...:     print('Number is even')\n",
    "            ...: elif num%2 ==1:\n",
    "            ...:     print('Number is odd')\n"
   ]
  },
  {
   "cell_type": "markdown",
   "id": "31ea3bc8",
   "metadata": {},
   "source": [
    "3. Write a Python Program to Check Leap Year?\n",
    "\n",
    "            : if year%4==0 and year%100!=0:\n",
    "         ...:     print('Leap year')\n",
    "         ...: elif year%100==0 and year%400 == 0:\n",
    "         ...:     print('leap year')\n"
   ]
  },
  {
   "cell_type": "markdown",
   "id": "959956cd",
   "metadata": {},
   "source": [
    "4. Write a Python Program to Check Prime Number?\n",
    "        In [129]: def prime_check(num):\n",
    "             ...:     for i in range(2,num):\n",
    "             ...:         if num%i==0:\n",
    "             ...:             return 'Not prime'\n",
    "             ...:         else:\n",
    "             ...:             return 'Prime'\n"
   ]
  },
  {
   "cell_type": "markdown",
   "id": "757d974e",
   "metadata": {},
   "source": [
    "5. Write a Python Program to Print all Prime Numbers in an Interval of 1-10000?\n",
    "        In [129]: def prime_check(num):\n",
    "             ...:     for i in range(2,num):\n",
    "             ...:         if num%i==0:\n",
    "             ...:             return 'Not prime'\n",
    "             ...:         else:\n",
    "             ...:             return 'Prime'\n",
    "             \n",
    "        n [139]: prime_list = []\n",
    "        In [140]: for i in range(1,10000):\n",
    "             ...:     if prime_check(i) == 'Prime':\n",
    "             ...:         prime_list.append(i)\n"
   ]
  },
  {
   "cell_type": "code",
   "execution_count": null,
   "id": "81711e7a",
   "metadata": {},
   "outputs": [],
   "source": []
  }
 ],
 "metadata": {
  "kernelspec": {
   "display_name": "Python 3 (ipykernel)",
   "language": "python",
   "name": "python3"
  },
  "language_info": {
   "codemirror_mode": {
    "name": "ipython",
    "version": 3
   },
   "file_extension": ".py",
   "mimetype": "text/x-python",
   "name": "python",
   "nbconvert_exporter": "python",
   "pygments_lexer": "ipython3",
   "version": "3.9.7"
  }
 },
 "nbformat": 4,
 "nbformat_minor": 5
}
