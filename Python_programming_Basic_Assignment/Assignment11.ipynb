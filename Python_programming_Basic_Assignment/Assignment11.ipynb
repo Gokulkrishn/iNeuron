{
 "cells": [
  {
   "cell_type": "markdown",
   "id": "8d145c82",
   "metadata": {},
   "source": [
    "1. Write a Python program to find words which are greater than given length k?\n",
    "     \n",
    "         w = [each for each in str.split(' ') if len(each)>4]"
   ]
  },
  {
   "cell_type": "markdown",
   "id": "b42d406f",
   "metadata": {},
   "source": [
    "2. Write a Python program for removing i-th character from a string?\n",
    "        In [96]: def str_replace(s,p):\n",
    "            ...:     return s.replace(s[p],'',1)\n",
    "            ...: \n",
    "\n",
    "        In [97]: str_replace('Helloworld',3)\n",
    "        Out[97]: 'Heloworld'\n",
    "\n"
   ]
  },
  {
   "cell_type": "markdown",
   "id": "ccb662a8",
   "metadata": {},
   "source": [
    "3. Write a Python program to split and join a string?\n",
    "\n",
    "        In [101]: str = \"hello geeks for geeks is computer science portal\"\n",
    "\n",
    "        In [105]: ' '.join(str.split(' '))\n",
    "        Out[105]: 'hello geeks for geeks is computer science portal'"
   ]
  },
  {
   "cell_type": "markdown",
   "id": "9ca02412",
   "metadata": {},
   "source": [
    "4. Write a Python to check if a given string is binary string or not?\n",
    "        In [112]: def check_if_binary(s):\n",
    "             ...:     bs = set(s)\n",
    "             ...:     if bs == {'0','1'} or bs == {'0'} or bs == {'1'}:\n",
    "             ...:         return 'Binary'\n",
    "             ...:     else:\n",
    "             ...:         return ' Not Binary'\n",
    "             ...: \n"
   ]
  },
  {
   "cell_type": "markdown",
   "id": "09f2c12c",
   "metadata": {},
   "source": [
    "5. Write a Python program to find uncommon words from two Strings?\n",
    "\n",
    "        In [153]: new_list = []\n",
    "             ...: for i in A.split(' '):\n",
    "             ...:     if i not in B.split(' '):\n",
    "             ...:         new_list.append(i)\n",
    "\n",
    "        In [154]: for i in B.split(' '):\n",
    "             ...:     if i not in A.split(' '):\n",
    "             ...:         new_list.append(i)\n"
   ]
  },
  {
   "cell_type": "markdown",
   "id": "096ee561",
   "metadata": {},
   "source": [
    "6. Write a Python to find all duplicate characters in string?\n",
    "\n",
    "        In [169]: set([i for i in list(st) if st.count(i)> 1])"
   ]
  },
  {
   "cell_type": "markdown",
   "id": "0584c15e",
   "metadata": {},
   "source": [
    "7. Write a Python Program to check if a string contains any special character?\n",
    "\n",
    "        sp='~!@#$%^&*/\\;:?<>,.'\n",
    "        if len([i for i in list(st) if i in list(sp)]) >1: print('Yes')"
   ]
  }
 ],
 "metadata": {
  "kernelspec": {
   "display_name": "Python 3 (ipykernel)",
   "language": "python",
   "name": "python3"
  },
  "language_info": {
   "codemirror_mode": {
    "name": "ipython",
    "version": 3
   },
   "file_extension": ".py",
   "mimetype": "text/x-python",
   "name": "python",
   "nbconvert_exporter": "python",
   "pygments_lexer": "ipython3",
   "version": "3.9.7"
  }
 },
 "nbformat": 4,
 "nbformat_minor": 5
}
