{
 "cells": [
  {
   "cell_type": "markdown",
   "id": "cc303194",
   "metadata": {},
   "source": [
    "1. Write a Python program to convert kilometers to miles?\n",
    "\n",
    "    km_mil =  0.621371\n",
    "    \n",
    "    km = float(input('Please enter number of kms: '))\n",
    "    \n",
    "    Please enter number of kms: 10\n",
    "\n",
    "    miles = km*km_mil\n",
    "\n",
    "    miles\n",
    "    \n",
    "    6.21371\n"
   ]
  },
  {
   "cell_type": "markdown",
   "id": "8b407599",
   "metadata": {},
   "source": [
    "2. Write a Python program to convert Celsius to Fahrenheit?\n",
    "\n",
    "    cel_fah = 32\n",
    "\n",
    "    celsius = float(input('Please enter temperature in Celsius: '))\n",
    "    \n",
    "    Please enter temperature in Celsius: 105\n",
    "\n",
    "    Fahrenheit = celsius * cel_fah\n",
    "\n",
    "    Fahrenheit\n",
    "    \n",
    "    3360.0\n"
   ]
  },
  {
   "cell_type": "markdown",
   "id": "a6793509",
   "metadata": {},
   "source": [
    "3. Write a Python program to display calendar?\n",
    "\n",
    "    print(calendar.month(22,2))\n",
    "        February 22\n",
    "        Mo Tu We Th Fr Sa Su\n",
    "            1  2  3  4  5  6\n",
    "         7  8  9 10 11 12 13\n",
    "        14 15 16 17 18 19 20\n",
    "        21 22 23 24 25 26 27\n",
    "        28\n",
    "\n"
   ]
  },
  {
   "cell_type": "markdown",
   "id": "633d3be7",
   "metadata": {},
   "source": [
    "4. Write a Python program to solve quadratic equation?\n",
    "\n",
    "    In [72]: a = 1\n",
    "\n",
    "    In [73]: b =5\n",
    "\n",
    "    In [74]: c =6\n",
    "\n",
    "    In [75]: disc = (b*b)-(4*a*c)\n",
    "\n",
    "    In [76]: sol1= (-b-(cmath.sqrt(disc)))/(2*a)\n",
    "\n",
    "    In [77]: sol2= (-b+(cmath.sqrt(disc)))/(2*a)\n",
    "\n",
    "    In [78]: sol1\n",
    "    Out[78]: (-3+0j)\n",
    "\n",
    "    In [79]: sol2\n",
    "    Out[79]: (-2+0j)\n",
    "\n"
   ]
  },
  {
   "cell_type": "markdown",
   "id": "8d77a736",
   "metadata": {},
   "source": [
    "5. Write a Python program to swap two variables without temp variable?\n",
    "\n",
    "    a,b = 10,20\n",
    "    \n",
    "    a,b = b,a"
   ]
  }
 ],
 "metadata": {
  "kernelspec": {
   "display_name": "Python 3 (ipykernel)",
   "language": "python",
   "name": "python3"
  },
  "language_info": {
   "codemirror_mode": {
    "name": "ipython",
    "version": 3
   },
   "file_extension": ".py",
   "mimetype": "text/x-python",
   "name": "python",
   "nbconvert_exporter": "python",
   "pygments_lexer": "ipython3",
   "version": "3.9.7"
  }
 },
 "nbformat": 4,
 "nbformat_minor": 5
}
