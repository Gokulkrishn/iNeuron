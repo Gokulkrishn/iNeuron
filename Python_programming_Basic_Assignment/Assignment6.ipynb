{
 "cells": [
  {
   "cell_type": "markdown",
   "id": "7d53b533",
   "metadata": {},
   "source": [
    "1. Write a Python Program to Display Fibonacci Sequence Using Recursion?\n",
    "    In [180]: def fib(n):\n",
    "         ...:     if n <=1:\n",
    "         ...:         return n\n",
    "         ...:     else:\n",
    "         ...:         fib(n-1) + fib(n-2)\n"
   ]
  },
  {
   "cell_type": "markdown",
   "id": "3ffad6e3",
   "metadata": {},
   "source": [
    "2. Write a Python Program to Find Factorial of Number Using Recursion?\n",
    "\n",
    "    In [175]: def fact(n):\n",
    "         ...:     if n==1:\n",
    "         ...:         return 1\n",
    "         ...:     while n>0:\n",
    "         ...:         return n*fact(n-1)\n"
   ]
  },
  {
   "cell_type": "markdown",
   "id": "8aa23b7d",
   "metadata": {},
   "source": [
    "3. Write a Python Program to calculate your Body Mass Index?\n",
    "\n",
    "    In [182]: height = float(input(\"Input your height in Feet: \"))\n",
    "         ...: weight = float(input(\"Input your weight in Kilogram: \"))\n",
    "         ...: print(\"Your body mass index is: \", round(weight / (height * height), 2))\n"
   ]
  },
  {
   "cell_type": "markdown",
   "id": "5931607b",
   "metadata": {},
   "source": [
    "4. Write a Python Program to calculate the natural logarithm of any number?\n",
    "    \n",
    "    math.log(number)"
   ]
  },
  {
   "cell_type": "markdown",
   "id": "bfeb6a0c",
   "metadata": {},
   "source": [
    "5. Write a Python Program for cube sum of first n natural numbers?\n",
    "\n",
    "    In [187]: def sum_cub(num):\n",
    "         ...:     sum =0\n",
    "         ...:     for i in range(1,num+1):\n",
    "         ...:         sum +=i*i*i\n",
    "         ...:     return sum\n"
   ]
  },
  {
   "cell_type": "code",
   "execution_count": null,
   "id": "6f8a8295",
   "metadata": {},
   "outputs": [],
   "source": []
  }
 ],
 "metadata": {
  "kernelspec": {
   "display_name": "Python 3 (ipykernel)",
   "language": "python",
   "name": "python3"
  },
  "language_info": {
   "codemirror_mode": {
    "name": "ipython",
    "version": 3
   },
   "file_extension": ".py",
   "mimetype": "text/x-python",
   "name": "python",
   "nbconvert_exporter": "python",
   "pygments_lexer": "ipython3",
   "version": "3.9.7"
  }
 },
 "nbformat": 4,
 "nbformat_minor": 5
}
