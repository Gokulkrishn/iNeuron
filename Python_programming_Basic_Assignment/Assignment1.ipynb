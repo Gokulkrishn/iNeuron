{
 "cells": [
  {
   "cell_type": "markdown",
   "id": "54892320",
   "metadata": {},
   "source": [
    "1. Write a Python program to print &quot;Hello Python&quot;?\n",
    "\n",
    "    print(\"Hello Python\")"
   ]
  },
  {
   "cell_type": "markdown",
   "id": "f65a31ed",
   "metadata": {},
   "source": [
    "2. Write a Python program to do arithmetical operations addition and division.?\n",
    "    \n",
    "    5+4\n",
    "    5/2"
   ]
  },
  {
   "cell_type": "markdown",
   "id": "806f1a8a",
   "metadata": {},
   "source": [
    "3. Write a Python program to find the area of a triangle?\n",
    "\n",
    "    \n",
    "    a = float(input('enter first side lenght: '))\n",
    "    enter first side lenght: 5\n",
    "\n",
    "    b = float(input('enter second side lenght: '))\n",
    "    enter second side lenght: 7\n",
    "\n",
    "    c = float(input('enter third side lenght: '))\n",
    "    enter third side lenght: 6\n",
    "\n",
    "\n",
    "    s = (a+b+c)/2\n",
    "\n",
    "    area = (s*(s-a)*(s-b)*(s-c))**0.5\n",
    "\n",
    "    print('Area of traingle is: %0.2f'%area)\n"
   ]
  },
  {
   "cell_type": "markdown",
   "id": "5bad442d",
   "metadata": {},
   "source": [
    "4. Write a Python program to swap two variables?\n",
    "\n",
    "    a = 5;b = 6\n",
    "    \n",
    "    a,b=b,a\n"
   ]
  },
  {
   "cell_type": "markdown",
   "id": "803f6bbe",
   "metadata": {},
   "source": [
    "5. Write a Python program to generate a random number?\n",
    "\n",
    "    import random\n",
    "    \n",
    "    random.randrange(1,100)"
   ]
  }
 ],
 "metadata": {
  "kernelspec": {
   "display_name": "Python 3 (ipykernel)",
   "language": "python",
   "name": "python3"
  },
  "language_info": {
   "codemirror_mode": {
    "name": "ipython",
    "version": 3
   },
   "file_extension": ".py",
   "mimetype": "text/x-python",
   "name": "python",
   "nbconvert_exporter": "python",
   "pygments_lexer": "ipython3",
   "version": "3.9.7"
  }
 },
 "nbformat": 4,
 "nbformat_minor": 5
}
