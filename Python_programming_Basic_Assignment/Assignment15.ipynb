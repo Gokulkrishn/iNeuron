{
 "cells": [
  {
   "cell_type": "markdown",
   "id": "3e7b215c",
   "metadata": {},
   "source": [
    "Question 1:\n",
    "Please write a program using generator to print the numbers which can be divisible by 5 and\n",
    "7 between 0 and n in comma separated form while n is input by console.\n",
    "Example:\n",
    "If the following n is given as input to the program:\n",
    "100\n",
    "Then, the output of the program should be:\n",
    "0,35,70\n",
    "\n",
    "\n",
    "        In [167]: def div5and7(n):\n",
    "             ...:     for i in range(n+1):\n",
    "             ...:         if i%7==0 and i%5==0:\n",
    "             ...:             yield i\n",
    "             ...: \n",
    "        In [168]: ','.join([str(i) for i in div5and7(100)])\n",
    "        Out[168]: '0,35,70'"
   ]
  },
  {
   "cell_type": "markdown",
   "id": "a18135f0",
   "metadata": {},
   "source": [
    "Question 2:\n",
    "Please write a program using generator to print the even numbers between 0 and n in comma\n",
    "separated form while n is input by console.\n",
    "Example:\n",
    "If the following n is given as input to the program:\n",
    "10\n",
    "Then, the output of the program should be:\n",
    "0,2,4,6,8,10\n",
    "\n",
    "        In [169]: def even(n):\n",
    "             ...:     for i in range(n+1):\n",
    "             ...:         if i%2==0:\n",
    "             ...:             yield i\n",
    "             ...: \n",
    "\n",
    "        In [170]: n = int(input('enter a number '))\n",
    "        enter a number 10\n",
    "\n",
    "        In [171]: ','.join([str(i) for i in even(n)])\n",
    "        Out[171]: '0,2,4,6,8,10"
   ]
  },
  {
   "cell_type": "markdown",
   "id": "f209d11f",
   "metadata": {},
   "source": [
    "Question 3:\n",
    "The Fibonacci Sequence is computed based on the following formula:\n",
    "f(n)=0 if n=0\n",
    "f(n)=1 if n=1\n",
    "f(n)=f(n-1)+f(n-2) if n&gt;1\n",
    "Please write a program using list comprehension to print the Fibonacci Sequence in comma\n",
    "separated form with a given n input by console.\n",
    "Example:\n",
    "If the following n is given as input to the program:\n",
    "7\n",
    "\n",
    "Then, the output of the program should be:\n",
    "0,1,1,2,3,5,8,13\n",
    "\n",
    "\n",
    "        In [200]: n = int(input('enter a number'))\n",
    "        enter a number 7\n",
    "\n",
    "        In [202]: seq =[0,1]\n",
    "\n",
    "        In [204]: [seq.append(seq[-1]+seq[-2]) for _ in range(10)]\n",
    "        Out[204]: [None, None, None, None, None, None, None, None, None, None]\n",
    "\n",
    "        In [205]: seq\n",
    "        Out[205]: [0, 1, 1, 2, 3, 5, 8, 13, 21, 34, 55, 89]\n"
   ]
  },
  {
   "cell_type": "markdown",
   "id": "de3e4b94",
   "metadata": {},
   "source": [
    "Question 4:\n",
    "Assuming that we have some email addresses in the &quot;username@companyname.com&quot; format,\n",
    "please write program to print the user name of a given email address. Both user names and\n",
    "company names are composed of letters only.\n",
    "Example:\n",
    "If the following email address is given as input to the program:\n",
    "john@google.com\n",
    "Then, the output of the program should be:\n",
    "john\n",
    "\n",
    "        import re\n",
    "        obj = re.search(r'([a-z]+)@([a-z\\.]+)','username@companyname.com')\n",
    "        if obj:\n",
    "            obj.group(1)\n"
   ]
  },
  {
   "cell_type": "markdown",
   "id": "c975c589",
   "metadata": {},
   "source": [
    "Question 5:\n",
    "Define a class named Shape and its subclass Square. The Square class has an init function\n",
    "which takes a length as argument. Both classes have a area function which can print the area\n",
    "of the shape where Shape&#39;s area is 0 by default.\n",
    "\n",
    "\n",
    "        In [238]: class Shape:\n",
    "             ...:     def __init__(self):\n",
    "             ...:         pass\n",
    "             ...:     def area(self):\n",
    "             ...:         return 0\n",
    "\n",
    "        In [239]: class Square(Shape):\n",
    "             ...:     def __init__(self,length):\n",
    "             ...:         super().__init__(self)\n",
    "             ...:         self.length = length\n",
    "             ...:     def area(self):\n",
    "             ...:         return self.length * self.length\n",
    "             ...: \n",
    "\n",
    "        In [240]: s = Square(8)\n",
    "\n",
    "        In [241]: s.area()\n",
    "        Out[241]: 64\n"
   ]
  },
  {
   "cell_type": "code",
   "execution_count": null,
   "id": "2648b89a",
   "metadata": {},
   "outputs": [],
   "source": []
  }
 ],
 "metadata": {
  "kernelspec": {
   "display_name": "Python 3 (ipykernel)",
   "language": "python",
   "name": "python3"
  },
  "language_info": {
   "codemirror_mode": {
    "name": "ipython",
    "version": 3
   },
   "file_extension": ".py",
   "mimetype": "text/x-python",
   "name": "python",
   "nbconvert_exporter": "python",
   "pygments_lexer": "ipython3",
   "version": "3.9.7"
  }
 },
 "nbformat": 4,
 "nbformat_minor": 5
}
