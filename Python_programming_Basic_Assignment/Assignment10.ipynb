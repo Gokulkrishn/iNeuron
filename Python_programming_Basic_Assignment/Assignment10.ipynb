{
 "cells": [
  {
   "cell_type": "markdown",
   "id": "5fc3c7a9",
   "metadata": {},
   "source": [
    "1. Write a Python program to find sum of elements in list?\n",
    "\n",
    "        In [11]: def sum_list(l,s):\n",
    "            ...:     if s == 0:\n",
    "            ...:         return 0\n",
    "            ...:     else:\n",
    "            ...:         return l[s-1]+ sum_list(l,s-1)\n",
    "            ...: \n"
   ]
  },
  {
   "cell_type": "markdown",
   "id": "41701ffc",
   "metadata": {},
   "source": [
    "2. Write a Python program to Multiply all numbers in the list?\n",
    "\n",
    "        In [15]: def product_list(l,s):\n",
    "            ...:     if s == 0:\n",
    "            ...:         return 1\n",
    "            ...:     else:\n",
    "            ...:         return l[s-1]* sum_list(l,s-1)\n",
    "\n"
   ]
  },
  {
   "cell_type": "markdown",
   "id": "fc33a242",
   "metadata": {},
   "source": [
    "3. Write a Python program to find smallest number in a list?\n",
    "\n",
    "        In [25]: def find_least(l):\n",
    "            ...:     s = l[0]\n",
    "            ...:     for i in l:\n",
    "            ...:         if i < s:\n",
    "            ...:             s = i\n",
    "            ...:     return s\n"
   ]
  },
  {
   "cell_type": "markdown",
   "id": "0cda9787",
   "metadata": {},
   "source": [
    "4. Write a Python program to find largest number in a list?\n",
    "\n",
    "        In [28]: def largest(l):\n",
    "            ...:     s = l[0]\n",
    "            ...:     for i in l:\n",
    "            ...:         if i>s:\n",
    "            ...:             s =i\n",
    "            ...:     return s\n"
   ]
  },
  {
   "cell_type": "markdown",
   "id": "315d1053",
   "metadata": {},
   "source": [
    "5. Write a Python program to find second largest number in a list?\n",
    "\n",
    "        In [32]: def largest(l):\n",
    "            ...:     s = l[0]\n",
    "            ...:     s2 = l[1]\n",
    "            ...:     for i in l:\n",
    "            ...:         if i>s:\n",
    "            ...:             s2 =s\n",
    "            ...:             s =i\n",
    "            ...:     return s2\n"
   ]
  },
  {
   "cell_type": "markdown",
   "id": "176bf04b",
   "metadata": {},
   "source": [
    "6. Write a Python program to find N largest elements from a list?\n",
    "\n",
    "        In [34]: l = [-45, 100, 200, 298, 900, 1000, 3579]\n",
    "\n",
    "        In [35]: l.sort()\n",
    "\n",
    "        In [37]: l[-4:]\n",
    "        Out[37]: [298, 900, 1000, 3579]\n"
   ]
  },
  {
   "cell_type": "markdown",
   "id": "15788308",
   "metadata": {},
   "source": [
    "7. Write a Python program to print even numbers in a list?\n",
    "\n",
    "\n",
    "        In [38]: e = [num for num in l if num%2==0]\n"
   ]
  },
  {
   "cell_type": "markdown",
   "id": "3e3fa2bc",
   "metadata": {},
   "source": [
    "8. Write a Python program to print odd numbers in a List?\n",
    "\n",
    "        In [38]: o = [num for num in l if num%2!=0]\n"
   ]
  },
  {
   "cell_type": "markdown",
   "id": "b3e840dd",
   "metadata": {},
   "source": [
    "9. Write a Python program to Remove empty List from List?\n",
    "\n",
    "        res = [each for each in l if l != []]"
   ]
  },
  {
   "cell_type": "markdown",
   "id": "3ce59343",
   "metadata": {},
   "source": [
    "10. Write a Python program to Cloning or Copying a list?\n",
    "\n",
    "        c = l[:]\n",
    "        or \n",
    "        c= []\n",
    "        c.extend(l)"
   ]
  },
  {
   "cell_type": "markdown",
   "id": "67502376",
   "metadata": {},
   "source": [
    "11. Write a Python program to Count occurrences of an element in a list?\n",
    "\n",
    "        In [77]: d = Counter(l)\n",
    "\n",
    "           OR\n",
    "           \n",
    "        In [78]: d\n",
    "        Out[78]: Counter({0: 1, 1: 1, 2: 1, 3: 3, 4: 1, 5: 1, 6: 7, 7: 1, 8: 2, 9: 3})\n",
    "\n",
    "        In [79]: d = {}\n",
    "\n",
    "        In [80]: for i in l:\n",
    "            ...:     if i in d.keys():\n",
    "            ...:         d[i] +=1\n",
    "            ...:     else:\n",
    "            ...:         d[i] = 1\n"
   ]
  }
 ],
 "metadata": {
  "kernelspec": {
   "display_name": "Python 3 (ipykernel)",
   "language": "python",
   "name": "python3"
  },
  "language_info": {
   "codemirror_mode": {
    "name": "ipython",
    "version": 3
   },
   "file_extension": ".py",
   "mimetype": "text/x-python",
   "name": "python",
   "nbconvert_exporter": "python",
   "pygments_lexer": "ipython3",
   "version": "3.9.7"
  }
 },
 "nbformat": 4,
 "nbformat_minor": 5
}
