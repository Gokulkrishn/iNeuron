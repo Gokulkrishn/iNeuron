{
 "cells": [
  {
   "cell_type": "markdown",
   "id": "896b00c5",
   "metadata": {},
   "source": [
    "1. Write a Python Program to find sum of array?\n",
    "\n",
    "    In [192]: def sum_arr(a,l):\n",
    "         ...:     if l == 0:\n",
    "         ...:         return 0\n",
    "         ...:     return sum_arr(a,l-1)+a[l-1]\n",
    "    In [193]: sum_arr([1,2,3,4],4)\n"
   ]
  },
  {
   "cell_type": "markdown",
   "id": "07e18378",
   "metadata": {},
   "source": [
    "2. Write a Python Program to find largest element in an array?\n",
    "\n",
    "    In [1]: def maxnum(a):\n",
    "       ...:     maxn = 0\n",
    "       ...:     for i in a:\n",
    "       ...:         if i > maxn:\n",
    "       ...:             maxn = i\n",
    "       ...:     return maxn\n",
    "       ...: \n",
    "\n",
    "    In [2]: maxnum([5,2,7,9,1])\n",
    "    Out[2]: 9\n"
   ]
  },
  {
   "cell_type": "markdown",
   "id": "ac75c172",
   "metadata": {},
   "source": [
    "3. Write a Python Program for array rotation?\n",
    "\n",
    "    In [37]: def rotate(arr,d,n):\n",
    "        ...:     arr[:]=arr[d:n]+arr[0:d]\n",
    "        ...:     return arr\n",
    "        ...: "
   ]
  },
  {
   "cell_type": "markdown",
   "id": "d2a77fe2",
   "metadata": {},
   "source": [
    "4. Write a Python Program to Split the array and add the first part to the end?\n",
    "\n",
    "        In [26]: arr = [12, 10, 5, 6, 52, 36]\n",
    "\n",
    "        In [27]: new = arr[2:]+arr[0:2]\n",
    "\n",
    "        In [28]: new\n",
    "        Out[28]: [5, 6, 52, 36, 12, 10]\n",
    "\n"
   ]
  },
  {
   "cell_type": "markdown",
   "id": "61f0d818",
   "metadata": {},
   "source": [
    "5. Write a Python Program to check if given array is Monotonic?\n",
    "\n",
    "    all(new_a[i]<=new_a[i+1] for i in range(len(new_a)-1)) or all(new_a[i]>=new_a[i+1] for i in range(len(new_a)-1))"
   ]
  },
  {
   "cell_type": "code",
   "execution_count": null,
   "id": "7fb1752e",
   "metadata": {},
   "outputs": [],
   "source": []
  }
 ],
 "metadata": {
  "kernelspec": {
   "display_name": "Python 3 (ipykernel)",
   "language": "python",
   "name": "python3"
  },
  "language_info": {
   "codemirror_mode": {
    "name": "ipython",
    "version": 3
   },
   "file_extension": ".py",
   "mimetype": "text/x-python",
   "name": "python",
   "nbconvert_exporter": "python",
   "pygments_lexer": "ipython3",
   "version": "3.9.7"
  }
 },
 "nbformat": 4,
 "nbformat_minor": 5
}
