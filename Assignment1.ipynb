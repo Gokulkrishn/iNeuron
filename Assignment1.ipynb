{
 "cells": [
  {
   "cell_type": "markdown",
   "id": "8dd60779",
   "metadata": {},
   "source": [
    "1. In the below elements which of them are values or an expression? eg:- values can be\n",
    "integer or string and expressions will be mathematical operators.\n",
    "\n",
    "\\*          : expression \\\n",
    "\\'hello'     : values\\\n",
    "\\-87.8       : values\\\n",
    "\\-           : expression\\\n",
    "\\/           : expression\\\n",
    "\\+           : expression\\\n",
    "6           : values"
   ]
  },
  {
   "cell_type": "markdown",
   "id": "896ae3dc",
   "metadata": {},
   "source": [
    "2. What is the difference between string and variable?\n",
    "\n",
    "Ans: String is a data type which can hold alphanumeric value in it using quotes (single or double). Variable is a memory location to store a value\\"
   ]
  },
  {
   "cell_type": "markdown",
   "id": "3cb30aaa",
   "metadata": {},
   "source": [
    "3. Describe three different data types.\n",
    "\n",
    "Ans: Numeric, String, Boolean, list, tupple, set, dict"
   ]
  },
  {
   "cell_type": "markdown",
   "id": "1b3f975d",
   "metadata": {},
   "source": [
    "4. What is an expression made up of? What do all expressions do?\n",
    "\n",
    "Ans: Expression is made of variable, values, operators etc. Expression gets evaluated to give us result"
   ]
  },
  {
   "cell_type": "markdown",
   "id": "5e7dd9fb",
   "metadata": {},
   "source": [
    "5. This assignment statements, like spam = 10. What is the difference between an\n",
    "expression and a statement?\n",
    "\n",
    "Ans: Expression evaluates or computes a value. Statements just assigns or modifies value to a variable"
   ]
  },
  {
   "cell_type": "markdown",
   "id": "3e2d961f",
   "metadata": {},
   "source": [
    "6. After running the following code, what does the variable bacon contain?\n",
    "bacon = 22\n",
    "bacon + 1\n",
    "\n",
    "Ans: bacon"
   ]
  },
  {
   "cell_type": "markdown",
   "id": "cde49b78",
   "metadata": {},
   "source": [
    "7. What should the values of the following two terms be?\n",
    "\n",
    "\n",
    "\\'spam' + 'spamspam'  --> 'spamspamspam'\\\n",
    "\\'spam' * 3           --> 'spamspamspam'"
   ]
  },
  {
   "cell_type": "markdown",
   "id": "94919dec",
   "metadata": {},
   "source": [
    "8. Why is eggs a valid variable name while 100 is invalid?\n",
    "\n",
    "Ans: A variable name must start with a letter but cannot start with a number.\n"
   ]
  },
  {
   "cell_type": "markdown",
   "id": "5a94acd1",
   "metadata": {},
   "source": [
    "9. What three functions can be used to get the integer, floating-point number, or string\n",
    "version of a value?\n",
    "\n",
    "Ans: int(), float(), str() can be used to get the integer, floating-point number, or string\n",
    "version of a value"
   ]
  },
  {
   "cell_type": "markdown",
   "id": "e217c5a3",
   "metadata": {},
   "source": [
    "10. Why does this expression cause an error? How can you fix it?\n",
    "\n",
    "'I have eaten' + 99 + 'burritos'\n",
    "\n",
    "Ans: 'I have eaten '+ str(99) + ' burritos'"
   ]
  },
  {
   "cell_type": "code",
   "execution_count": null,
   "id": "03578fa9",
   "metadata": {},
   "outputs": [],
   "source": []
  }
 ],
 "metadata": {
  "kernelspec": {
   "display_name": "Python 3 (ipykernel)",
   "language": "python",
   "name": "python3"
  },
  "language_info": {
   "codemirror_mode": {
    "name": "ipython",
    "version": 3
   },
   "file_extension": ".py",
   "mimetype": "text/x-python",
   "name": "python",
   "nbconvert_exporter": "python",
   "pygments_lexer": "ipython3",
   "version": "3.9.7"
  }
 },
 "nbformat": 4,
 "nbformat_minor": 5
}
