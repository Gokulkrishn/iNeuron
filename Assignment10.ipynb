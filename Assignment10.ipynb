{
 "cells": [
  {
   "cell_type": "markdown",
   "id": "e5b9cca2",
   "metadata": {},
   "source": [
    "1. How do you distinguish between shutil.copy() and shutil.copytree()?\n",
    "\n",
    "        \n",
    "        shutil.copy() will copy a single file, shutil. copytree() will copy an entire folder and every folder and file contained in it.\n"
   ]
  },
  {
   "cell_type": "markdown",
   "id": "717b1d68",
   "metadata": {},
   "source": [
    "2. What function is used to rename files??\n",
    "\n",
    "        os. rename() "
   ]
  },
  {
   "cell_type": "markdown",
   "id": "00d094da",
   "metadata": {},
   "source": [
    "3. What is the difference between the delete functions in the send2trash and shutil modules?\n",
    "\n",
    "\n",
    "        send2trash functions will move a file or folder to the recycle bin, while shutil functions will permanently delete files and folders."
   ]
  },
  {
   "cell_type": "markdown",
   "id": "12bbc793",
   "metadata": {},
   "source": [
    "4.ZipFile objects have a close() method just like File objects’ close() method. What ZipFile method is\n",
    "equivalent to File objects’ open() method?\n",
    "\n",
    "        \n",
    "        zipfile.ZipFile('filename', mode = 'r')\n",
    "        zipfile.ZipFile('filename', mode = 'w')"
   ]
  },
  {
   "cell_type": "markdown",
   "id": "5544276e",
   "metadata": {},
   "source": [
    "5.Create a programme that searches a folder tree for files with a certain file extension (such as .pdf\n",
    "or .jpg). Copy these files from whatever location they are in to a new folder.\n",
    "\n",
    "        for folders,subfolders,files in os.walk(os.getcwd()):\n",
    "             if folders == '/home/sreekrishna/temp/temp1/temp2/temp3':\n",
    "                 break\n",
    "             for each_file in files:\n",
    "                 if (len(each_file.split('.'))) >1:\n",
    "                     if each_file.split('.')[1] == 'pdf' or each_file.split('.')[1] == 'jpeg':\n",
    "                         print(folders,each_file)\n",
    "                         shutil.copy(folders+'/'+each_file,'/home/sreekrishna/temp/temp1/temp2/temp3')\n"
   ]
  },
  {
   "cell_type": "code",
   "execution_count": null,
   "id": "51b8f394",
   "metadata": {},
   "outputs": [],
   "source": []
  }
 ],
 "metadata": {
  "kernelspec": {
   "display_name": "Python 3 (ipykernel)",
   "language": "python",
   "name": "python3"
  },
  "language_info": {
   "codemirror_mode": {
    "name": "ipython",
    "version": 3
   },
   "file_extension": ".py",
   "mimetype": "text/x-python",
   "name": "python",
   "nbconvert_exporter": "python",
   "pygments_lexer": "ipython3",
   "version": "3.9.7"
  }
 },
 "nbformat": 4,
 "nbformat_minor": 5
}
