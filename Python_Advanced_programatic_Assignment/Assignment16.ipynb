{
 "cells": [
  {
   "cell_type": "markdown",
   "id": "a1cf1984",
   "metadata": {},
   "source": [
    "1. Rondo Form is a type of musical structure, in which there is a recurring\n",
    "theme/refrain, notated as A. Here are the rules for valid rondo forms:\n",
    "- Rondo forms always start and end with an A section.\n",
    "- In between the A sections, there should be contrasting sections notated as\n",
    "B, then C, then D, etc... No letter should be skipped.\n",
    "- There shouldn&#39;t be any repeats in the sequence (such as ABBACCA).\n",
    "Create a function which validates whether a given string is a valid Rondo\n",
    "Form.\n",
    "Examples\n",
    "valid_rondo(&quot;ABACADAEAFAGAHAIAJA&quot;) ➞ True\n",
    "valid_rondo(&quot;ABA&quot;) ➞ True\n",
    "valid_rondo(&quot;ABBACCA&quot;) ➞ False\n",
    "valid_rondo(&quot;ACAC&quot;) ➞ False\n",
    "valid_rondo(&quot;A&quot;) ➞ False\n",
    "\n",
    "        In [313]: import re\n",
    "             ...: def valid_rondo(string):\n",
    "             ...:      if string[0] != 'A' or string[-1] != 'A':\n",
    "             ...:          return False\n",
    "             ...:      elif not  re.search(r'([B-Z]+)',string[1:2]+string[-2:-1]):\n",
    "             ...:          return False\n",
    "             ...:      prev = ''\n",
    "             ...:      for i in list(string):\n",
    "             ...:          if prev == i:\n",
    "             ...:              return False\n",
    "             ...:          else:\n",
    "             ...:              prev = i\n",
    "             ...: \n"
   ]
  },
  {
   "cell_type": "markdown",
   "id": "243c4aab",
   "metadata": {},
   "source": [
    "2. Create a function that returns the whole of the first sentence which\n",
    "contains a specific word. Include the full stop at the end of the sentence.\n",
    "Examples\n",
    "txt = &quot;I have a cat. I have a mat. Things are going swell.&quot;\n",
    "sentence_searcher(txt, &quot;have&quot;) ➞ &quot;I have a cat.&quot;\n",
    "sentence_searcher(txt, &quot;MAT&quot;) ➞ &quot;I have a mat.&quot;\n",
    "sentence_searcher(txt, &quot;things&quot;) ➞ &quot;Things are going swell.&quot;\n",
    "sentence_searcher(txt, &quot;flat&quot;) ➞ &quot;&quot;\n",
    "\n",
    "        In [30]: def sentence_searcher(txt,string):\n",
    "            ...:     string = string.lower()\n",
    "            ...:     for each in txt.split('.'):\n",
    "            ...:         if string in each.lower():\n",
    "            ...:             return each.strip()\n",
    "            ...:     return ''\n",
    "            ...: \n"
   ]
  },
  {
   "cell_type": "markdown",
   "id": "8d5a334f",
   "metadata": {},
   "source": [
    "3. Given a number, find the &quot;round &quot;of each digit of the number. An integer is\n",
    "called &quot;round&quot; if all its digits except the leftmost (most significant) are equal to\n",
    "zero.\n",
    "- Round numbers: 4000, 1, 9, 800, 90\n",
    "- Not round numbers: 110, 707, 222, 1001\n",
    "\n",
    "Create a function that takes a number and returns the &quot;round&quot; of each digit\n",
    "(except if the digit is zero) as a string. Check out the following examples for\n",
    "more clarification.\n",
    "Examples\n",
    "sum_round(101) ➞ &quot;1 100&quot;\n",
    "sum_round(1234) ➞ &quot;4 30 200 1000&quot;\n",
    "sum_round(54210) ➞ &quot;10 200 4000 50000&quot;\n",
    "\n",
    "\n",
    "        In [59]: def sum_round(num):\n",
    "            ...:     i = 0\n",
    "            ...:     s = ''\n",
    "            ...:     while num >0:\n",
    "            ...:         r = num%10\n",
    "            ...:         if r != 0:\n",
    "            ...:             s +=(str(r*10**i)) +' '\n",
    "            ...:         num = num //10\n",
    "            ...:         i +=1\n",
    "            ...:     return s.strip()\n",
    "            ...: \n"
   ]
  },
  {
   "cell_type": "markdown",
   "id": "3300f113",
   "metadata": {},
   "source": [
    "4. Your task, is to create N x N multiplication table, of size n provided in\n",
    "parameter.\n",
    "For example, when n is 5, the multiplication table is:\n",
    "- 1, 2, 3, 4, 5\n",
    "- 2, 4, 6, 8, 10\n",
    "- 3, 6, 9, 12, 15\n",
    "- 4, 8, 12, 16, 20\n",
    "- 5, 10, 15, 20, 25\n",
    "This example will result in:\n",
    "[[1, 2, 3, 4, 5], [2, 4, 6, 8, 10], [3, 6, 9, 12, 15], [4, 8, 12, 16, 20], [5, 10, 15, 20,\n",
    "25]]\n",
    "Examples\n",
    "multiplication_table(1) ➞ [[1]]\n",
    "multiplication_table(3) ➞ [[1, 2, 3], [2, 4, 6], [3, 6, 9]]\n",
    "\n",
    "\n",
    "        In [65]: def multiplication_table(num):\n",
    "            ...:     return [[i for i in range(1,num+1)] for i in range(num)]\n",
    "            ...: \n"
   ]
  },
  {
   "cell_type": "markdown",
   "id": "7f041810",
   "metadata": {},
   "source": [
    "5. Create a function that returns True if two lines rhyme and False otherwise.\n",
    "For the purposes of this exercise, two lines rhyme if the last word from each\n",
    "sentence contains the same vowels.\n",
    "Examples\n",
    "does_rhyme(&quot;Sam I am!&quot;, &quot;Green eggs and ham.&quot;) ➞ True\n",
    "does_rhyme(&quot;Sam I am!&quot;, &quot;Green eggs and HAM.&quot;) ➞ True\n",
    "# Capitalization and punctuation should not matter.\n",
    "\n",
    "In [89]: import re\n",
    "    ...: def does_rhyme(s1,s2):\n",
    "    ...:     s1,s2 = s1.lower(),s2.lower()\n",
    "    ...:     s1 = re.sub('[!,\\.]','',s1)\n",
    "    ...:     s2 = re.sub('[!,\\.]','',s2)\n",
    "    ...:     return s1[-1] == s2[-1]\n",
    "    ...: \n"
   ]
  }
 ],
 "metadata": {
  "kernelspec": {
   "display_name": "Python 3 (ipykernel)",
   "language": "python",
   "name": "python3"
  },
  "language_info": {
   "codemirror_mode": {
    "name": "ipython",
    "version": 3
   },
   "file_extension": ".py",
   "mimetype": "text/x-python",
   "name": "python",
   "nbconvert_exporter": "python",
   "pygments_lexer": "ipython3",
   "version": "3.9.7"
  }
 },
 "nbformat": 4,
 "nbformat_minor": 5
}
