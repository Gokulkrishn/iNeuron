{
 "cells": [
  {
   "cell_type": "markdown",
   "id": "628037f6",
   "metadata": {},
   "source": [
    "1. YouTube offers different playback speed options for users. This allows\n",
    "users to increase or decrease the speed of the video content. Given the\n",
    "actual duration and playback speed of the video, calculate the playback\n",
    "duration of the video.\n",
    "Examples\n",
    "playback_duration(&quot;00:30:00&quot;, 2) ➞ &quot;00:15:00&quot;\n",
    "playback_duration(&quot;01:20:00&quot;, 1.5) ➞ &quot;00:53:20&quot;\n",
    "playback_duration(&quot;51:20:09&quot;, 0.5) ➞ &quot;102:40:18&quot;\n",
    "\n",
    "\n",
    "        In [781]: def playback_duration(time,speed):\n",
    "             ...:     h,m,s = [int(i) for i in time.split(':')]\n",
    "             ...:     tot_secs = h*3600+m*60+s\n",
    "             ...:     tot_secs = tot_secs//speed\n",
    "             ...:     h = int(tot_secs // 3600)\n",
    "             ...:     tot_secs = tot_secs%3600\n",
    "             ...:     m = int(tot_secs //60)\n",
    "             ...:     s = int(tot_secs%60)\n",
    "             ...:     return str(h)+':'+str(m)+':'+str(s)\n",
    "             ...: \n"
   ]
  },
  {
   "cell_type": "markdown",
   "id": "07c7d201",
   "metadata": {},
   "source": [
    "2. We needs your help to construct a building which will be a pile of n cubes.\n",
    "The cube at the bottom will have a volume of n^3, the cube above will have\n",
    "volume of (n-1)^3 and so on until the top which will have a volume of 1^3.\n",
    "Given the total volume m of the building, can you find the number of cubes n\n",
    "required for the building?\n",
    "In other words, you have to return an integer n such that:\n",
    "n^3 + (n-1)^3 + ... + 1^3 == m\n",
    "Return None if there is no such number.\n",
    "Examples\n",
    "pile_of_cubes(1071225) ➞ 45\n",
    "pile_of_cubes(4183059834009) ➞ 2022\n",
    "pile_of_cubes(16) ➞ None\n",
    "\n",
    "\n",
    "        In [663]: def pile_of_cubes(num):\n",
    "             ...:     vol = 0\n",
    "             ...:     volume = num\n",
    "             ...:     for i in range(1,num):\n",
    "             ...:         vol += i**3\n",
    "             ...:         if vol >= volume:\n",
    "             ...:             break\n",
    "             ...:     return i if vol == volume else None\n",
    "             ...: \n"
   ]
  },
  {
   "cell_type": "markdown",
   "id": "284a29e6",
   "metadata": {},
   "source": [
    "3. A fulcrum of a list is an integer such that all elements to the left of it and all\n",
    "elements to the right of it sum to the same value. Write a function that finds\n",
    "the fulcrum of a list.\n",
    "To illustrate:\n",
    "find_fulcrum([3, 1, 5, 2, 4, 6, -1]) ➞ 2\n",
    "// Since [3, 1, 5] and [4, 6, -1] both sum to 9\n",
    "Examples\n",
    "\n",
    "find_fulcrum([1, 2, 4, 9, 10, -10, -9, 3]) ➞ 4\n",
    "find_fulcrum([9, 1, 9]) ➞ 1\n",
    "find_fulcrum([7, -1, 0, -1, 1, 1, 2, 3]) ➞ 0\n",
    "find_fulcrum([8, 8, 8, 8]) ➞ -1\n",
    "\n",
    "        In [619]: def find_fulcrum(l):\n",
    "             ...:     s = -1\n",
    "             ...:     for i,j in enumerate(l):\n",
    "             ...:         if sum(l[:i]) == sum(l[i+1:]):\n",
    "             ...:             s = j\n",
    "             ...:     return s\n",
    "             ...: \n"
   ]
  },
  {
   "cell_type": "markdown",
   "id": "b30db229",
   "metadata": {},
   "source": [
    "4. Given a list of integers representing the color of each sock, determine how\n",
    "many pairs of socks with matching colors there are. For example, there are 7\n",
    "socks with colors [1, 2, 1, 2, 1, 3, 2]. There is one pair of color 1 and one of\n",
    "color 2. There are three odd socks left, one of each color. The number of\n",
    "pairs is 2.\n",
    "Create a function that returns an integer representing the number of matching\n",
    "pairs of socks that are available.\n",
    "Examples\n",
    "sock_merchant([10, 20, 20, 10, 10, 30, 50, 10, 20]) ➞ 3\n",
    "sock_merchant([50, 20, 30, 90, 30, 20, 50, 20, 90]) ➞ 4\n",
    "sock_merchant([]) ➞ 0\n",
    "\n",
    "\n",
    "        In [566]: def sock_merchant(l):\n",
    "             ...:     pair = {}\n",
    "             ...:     count = 0\n",
    "             ...:     for i in l:\n",
    "             ...:         if i in pair.keys():\n",
    "             ...:             print(i)\n",
    "             ...:             count +=1\n",
    "             ...:             pair.pop(i)\n",
    "             ...:         else:\n",
    "             ...:             pair[i] = 1\n",
    "             ...:     return count\n",
    "             ...: "
   ]
  },
  {
   "cell_type": "markdown",
   "id": "d9cb14b9",
   "metadata": {},
   "source": [
    "5. Create a function that takes a string containing integers as well as other\n",
    "characters and return the sum of the negative integers only.\n",
    "Examples\n",
    "negative_sum(&quot;-12 13%14&amp;-11&quot;) ➞ -23\n",
    "# -12 + -11 = -23\n",
    "negative_sum(&quot;22 13%14&amp;-11-22 13 12&quot;) ➞ -33\n",
    "# -11 + -22 = -33\n",
    "\n",
    "        In [557]: import re\n",
    "             ...: from functools import reduce\n",
    "             ...: def negative_sum(string):\n",
    "             ...:     m = re.findall(r'(-[\\d+]+)',string)\n",
    "             ...:     return reduce(lambda a,b:int(a)+int(b),m)\n",
    "             ...: \n"
   ]
  }
 ],
 "metadata": {
  "kernelspec": {
   "display_name": "Python 3 (ipykernel)",
   "language": "python",
   "name": "python3"
  },
  "language_info": {
   "codemirror_mode": {
    "name": "ipython",
    "version": 3
   },
   "file_extension": ".py",
   "mimetype": "text/x-python",
   "name": "python",
   "nbconvert_exporter": "python",
   "pygments_lexer": "ipython3",
   "version": "3.9.7"
  }
 },
 "nbformat": 4,
 "nbformat_minor": 5
}
