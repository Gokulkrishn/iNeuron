{
 "cells": [
  {
   "cell_type": "markdown",
   "id": "cfb80a70",
   "metadata": {},
   "source": [
    "1. Given a list of numbers, create a function that removes 25% from every\n",
    "number in the list except the smallest number, and adds the total amount\n",
    "removed to the smallest number.\n",
    "Examples\n",
    "show_the_love([4, 1, 4]) ➞ [3, 3, 3]\n",
    "show_the_love([16, 10, 8]) ➞ [12, 7.5, 14.5]\n",
    "show_the_love([2, 100]) ➞ [27, 75]\n",
    "\n",
    "\n",
    "        In [91]: def show_the_love(l):\n",
    "            ...:     nl = [i*0.75 for i in l if i != min(l)]\n",
    "            ...:     nl.insert(l.index(min(l)), reduce(lambda a,b:a+b,[i*0.25 for i in l if i != min(l)])+l.index(min(l)))\n",
    "            ...:     return [int(i) if '.0' in str(i) else float(i) for i in nl]\n",
    "            ...: \n"
   ]
  },
  {
   "cell_type": "markdown",
   "id": "0ff9771c",
   "metadata": {},
   "source": [
    "2. Create a function that takes in two words as input and returns a list of three\n",
    "elements, in the following order:\n",
    "1.Shared letters between two words.\n",
    "2.Letters unique to word 1.\n",
    "3.Letters unique to word 2.\n",
    "Each element should have unique letters, and have each letter be\n",
    "alphabetically sorted.\n",
    "Examples\n",
    "letters(&quot;sharp&quot;, &quot;soap&quot;) ➞ [&quot;aps&quot;, &quot;hr&quot;, &quot;o&quot;]\n",
    "letters(&quot;board&quot;, &quot;bored&quot;) ➞ [&quot;bdor&quot;, &quot;a&quot;, &quot;e&quot;]\n",
    "letters(&quot;happiness&quot;, &quot;envelope&quot;) ➞ [&quot;enp&quot;, &quot;ahis&quot;, &quot;lov&quot;]\n",
    "letters(&quot;kerfuffle&quot;, &quot;fluffy&quot;) ➞ [&quot;flu&quot;, &quot;ekr&quot;, &quot;y&quot;]\n",
    "# Even with multiple matching letters (e.g. 3 f&#39;s), there should\n",
    "# only exist a single &quot;f&quot; in your first element.\n",
    "letters(&quot;match&quot;, &quot;ham&quot;) ➞ [&quot;ahm&quot;, &quot;ct&quot;, &quot;&quot;]\n",
    "# &quot;ham&quot; does not contain any letters that are not found already\n",
    "# in &quot;match&quot;.\n",
    "\n",
    "\n",
    "        In [120]: def letters(w1,w2):\n",
    "             ...:     cl,f1,f2 = '','',''\n",
    "             ...:     l1 = list(w1)\n",
    "             ...:     l1.sort()\n",
    "             ...:     l2 = list(w2)\n",
    "             ...:     l2.sort()\n",
    "             ...:     for e1 in l1:\n",
    "             ...:         if e1 in l2:\n",
    "             ...:             cl +=e1\n",
    "             ...:     for e1 in l1:\n",
    "             ...:         if e1 not in l2:\n",
    "             ...:             f1 +=e1\n",
    "             ...:     for e2 in l2:\n",
    "             ...:         if e2 not in l1:\n",
    "             ...:             f2 +=e2\n",
    "             ...:     return [cl,f1,f2]\n",
    "             ...: \n"
   ]
  },
  {
   "cell_type": "markdown",
   "id": "964f4b72",
   "metadata": {},
   "source": [
    "3. Write a function that pairs the first number in an array with the last, the\n",
    "second number with the second to last, etc.\n",
    "Examples\n",
    "pairs([1, 2, 3, 4, 5, 6, 7]) ➞ [[1, 7], [2, 6], [3, 5], [4, 4]]\n",
    "\n",
    "pairs([1, 2, 3, 4, 5, 6]) ➞ [[1, 6], [2, 5], [3, 4]]\n",
    "pairs([5, 9, 8, 1, 2]) ➞ [[5, 2], [9, 1], [8, 8]]\n",
    "pairs([]) ➞ []\n",
    "\n",
    "\n",
    "        In [125]: def pairs(l):\n",
    "             ...:     return [[l[i],l[len(l)-1-i]] for i in range(len(l)//2)]\n",
    "             ...: "
   ]
  },
  {
   "cell_type": "markdown",
   "id": "ec6c469c",
   "metadata": {},
   "source": [
    "4. Write a function that adds two numbers. The catch, however, is that the\n",
    "numbers will be strings.\n",
    "Examples\n",
    "add_str_nums(&quot;4&quot;, &quot;5&quot;) ➞ &quot;9&quot;\n",
    "add_str_nums(&quot;abcdefg&quot;, &quot;3&quot;) ➞ &quot;-1&quot;\n",
    "add_str_nums(&quot;1&quot;, &quot;&quot;) ➞ &quot;1&quot;\n",
    "add_str_nums(&quot;1874682736267235927359283579235789257&quot;,\n",
    "&quot;32652983572985729&quot;) ➞ &quot;1874682736267235927391936562808774986&quot;\n",
    "\n",
    "\n",
    "        In [141]: def add_str_nums(i1,i2):\n",
    "             ...:     try:\n",
    "             ...:         if len(i1) == 0:\n",
    "             ...:             i1= 0\n",
    "             ...:         else:\n",
    "             ...:             i2 = 0\n",
    "             ...:         return int(i1) + int(i2)\n",
    "             ...:     except:\n",
    "             ...:         return -1\n",
    "             ...: "
   ]
  },
  {
   "cell_type": "markdown",
   "id": "ce46f7ae",
   "metadata": {},
   "source": [
    "5. lPaeesh le pemu mnxit ehess rtnisg! Oh, sorry, that was supposed to say:\n",
    "Please help me unmix these strings!\n",
    "Somehow my strings have all become mixed up; every pair of characters has\n",
    "been swapped. Help me undo this so I can understand my strings again.\n",
    "Examples\n",
    "unmix(&quot;123456&quot;) ➞ &quot;214365&quot;\n",
    "unmix(&quot;hTsii s aimex dpus rtni.g&quot;) ➞ &quot;This is a mixed up string.&quot;\n",
    "unmix(&quot;badce&quot;) ➞ &quot;abcde&quot;\n",
    "\n",
    "        In [184]: def unmix(string):\n",
    "             ...:     l = list(string)\n",
    "             ...:     nl = ''\n",
    "             ...:     even = [i for i,j in enumerate(l) if i%2==0]\n",
    "             ...:     odd = [i for i,j in enumerate(l) if i%2 !=0]\n",
    "             ...:     for i,j in zip(even,odd):\n",
    "             ...:         print(l[i],l[j])\n",
    "             ...:         nl += l[j]\n",
    "             ...:         nl += l[i]\n",
    "             ...:     return nl\n"
   ]
  },
  {
   "cell_type": "code",
   "execution_count": null,
   "id": "9e192ab1",
   "metadata": {},
   "outputs": [],
   "source": []
  }
 ],
 "metadata": {
  "kernelspec": {
   "display_name": "Python 3 (ipykernel)",
   "language": "python",
   "name": "python3"
  },
  "language_info": {
   "codemirror_mode": {
    "name": "ipython",
    "version": 3
   },
   "file_extension": ".py",
   "mimetype": "text/x-python",
   "name": "python",
   "nbconvert_exporter": "python",
   "pygments_lexer": "ipython3",
   "version": "3.9.7"
  }
 },
 "nbformat": 4,
 "nbformat_minor": 5
}
