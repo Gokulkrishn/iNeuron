{
 "cells": [
  {
   "cell_type": "markdown",
   "id": "45f27b58",
   "metadata": {},
   "source": [
    "1. In mathematics, the Fibonacci numbers, commonly denoted Fn, form a\n",
    "sequence, called the Fibonacci sequence, such that each number is the sum\n",
    "of the two preceding ones, starting from 0 and 1:\n",
    "\n",
    "The beginning of the sequence is this:\n",
    "0, 1, 1, 2, 3, 5, 8, 13, 21, 34, 55, 89, 144, ...\n",
    "The function fastFib(num) returns the fibonacci number Fn, of the given num\n",
    "as an argument.\n",
    "Examples\n",
    "fib_fast(5) ➞ 5\n",
    "fib_fast(10) ➞ 55\n",
    "fib_fast(20) ➞ 6765\n",
    "fib_fast(50) ➞ 12586269025\n",
    "\n",
    "\n",
    "        In [427]: def fib_fast(num):\n",
    "             ...:     if num == 0 or num ==1:\n",
    "             ...:         return num\n",
    "             ...:     return fib_fast(num-1)+fib_fast(num-2)\n",
    "             ...:"
   ]
  },
  {
   "cell_type": "markdown",
   "id": "8853841b",
   "metadata": {},
   "source": [
    "2. Create a function that takes a strings characters as ASCII and returns each\n",
    "characters hexadecimal value as a string.\n",
    "Examples\n",
    "convert_to_hex(&quot;hello world&quot;) ➞ &quot;68 65 6c 6c 6f 20 77 6f 72 6c 64&quot;\n",
    "convert_to_hex(&quot;Big Boi&quot;) ➞ &quot;42 69 67 20 42 6f 69&quot;\n",
    "convert_to_hex(&quot;Marty Poppinson&quot;) ➞ &quot;4d 61 72 74 79 20 50 6f 70 70 69 6e\n",
    "73 6f 6e&quot;\n",
    "\n",
    "        In [424]: def convert_to_hex(string):\n",
    "             ...:     return ' '.join([hex(ord(i))[2:] for i in list(string)])\n",
    "             ...: \n"
   ]
  },
  {
   "cell_type": "markdown",
   "id": "d1d59e5c",
   "metadata": {},
   "source": [
    "3. Someone has attempted to censor my strings by replacing every vowel\n",
    "with a *, l*k* th*s. Luckily, I&#39;ve been able to find the vowels that were\n",
    "removed.\n",
    "Given a censored string and a string of the censored vowels, return the\n",
    "original uncensored string.\n",
    "Example\n",
    "uncensor('Wh*r* d*d my v*w*ls g*?', 'eeioeo') ➞ Where did my vowels go?'\n",
    "uncensor(&quot;abcd&quot;, &quot;&quot;) ➞ &quot;abcd&quot;\n",
    "uncensor(&quot;*PP*RC*S*&quot;, &quot;UEAE&quot;) ➞ &quot;UPPERCASE&quot;\n",
    "\n",
    "        In [407]: def uncensor(string,vowel):\n",
    "             ...:     vowel = list(vowel)[::-1]\n",
    "             ...:     while '*' in string:\n",
    "             ...:         print(vowel)\n",
    "             ...:         string = string.replace('*',vowel.pop(),1)\n",
    "             ...:         print(string)\n",
    "             ...:     return string\n",
    "             ...: \n",
    "             ...: \n"
   ]
  },
  {
   "cell_type": "markdown",
   "id": "b4cb283d",
   "metadata": {},
   "source": [
    "4. Write a function that takes an IP address and returns the domain name\n",
    "using PTR DNS records.\n",
    "Example\n",
    "get_domain(&quot;8.8.8.8&quot;) ➞ &quot;dns.google&quot;\n",
    "get_domain(&quot;8.8.4.4&quot;) ➞ &quot;dns.google&quot;\n",
    "\n",
    "        In [17]: def get_domain_name(ip_address):\n",
    "            ...:   import socket\n",
    "            ...:   result=socket.gethostbyaddr(ip_address)\n",
    "            ...:   return list(result)[0]\n"
   ]
  },
  {
   "cell_type": "markdown",
   "id": "1f4ffff7",
   "metadata": {},
   "source": [
    "5. Create a function that takes an integer n and returns the factorial of\n",
    "factorials. See below examples for a better understanding:\n",
    "Examples\n",
    "fact_of_fact(4) ➞ 288\n",
    "# 4! * 3! * 2! * 1! = 288\n",
    "fact_of_fact(5) ➞ 34560\n",
    "fact_of_fact(6) ➞ 24883200\n",
    "\n",
    "        In [13]: def fact(n):\n",
    "            ...:     return (reduce(lambda a,b:a*b,list(range(1,n+1))))\n",
    "            ...: \n",
    "\n",
    "        In [14]: from functools import reduce\n",
    "            ...: def fact_of_fact(n):\n",
    "            ...:     res = 1\n",
    "            ...:     for i in range(1,n+1):\n",
    "            ...:         res *=fact(i)\n",
    "            ...:     return res"
   ]
  },
  {
   "cell_type": "code",
   "execution_count": null,
   "id": "ac6ce5db",
   "metadata": {},
   "outputs": [],
   "source": []
  }
 ],
 "metadata": {
  "kernelspec": {
   "display_name": "Python 3 (ipykernel)",
   "language": "python",
   "name": "python3"
  },
  "language_info": {
   "codemirror_mode": {
    "name": "ipython",
    "version": 3
   },
   "file_extension": ".py",
   "mimetype": "text/x-python",
   "name": "python",
   "nbconvert_exporter": "python",
   "pygments_lexer": "ipython3",
   "version": "3.9.7"
  }
 },
 "nbformat": 4,
 "nbformat_minor": 5
}
