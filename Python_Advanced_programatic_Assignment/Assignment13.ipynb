{
 "cells": [
  {
   "cell_type": "markdown",
   "id": "49e2a2ef",
   "metadata": {},
   "source": [
    "1. Create a function that takes a list and string. The function should remove\n",
    "the letters in the string from the list, and return the list.\n",
    "Examples\n",
    "remove_letters([&quot;s&quot;, &quot;t&quot;, &quot;r&quot;, &quot;i&quot;, &quot;n&quot;, &quot;g&quot;, &quot;w&quot;], &quot;string&quot;) ➞ [&quot;w&quot;]\n",
    "remove_letters([&quot;b&quot;, &quot;b&quot;, &quot;l&quot;, &quot;l&quot;, &quot;g&quot;, &quot;n&quot;, &quot;o&quot;, &quot;a&quot;, &quot;w&quot;], &quot;balloon&quot;) ➞ [&quot;b&quot;, &quot;g&quot;,\n",
    "&quot;w&quot;]\n",
    "remove_letters([&quot;d&quot;, &quot;b&quot;, &quot;t&quot;, &quot;e&quot;, &quot;a&quot;, &quot;i&quot;], &quot;edabit&quot;) ➞ []\n",
    "\n",
    "\n",
    "        In [64]: def remove_letters(l,s):\n",
    "            ...:     for i in str(s):\n",
    "            ...:         if i in l:\n",
    "            ...:             l.remove(i)\n",
    "            ...:     return l\n",
    "            ...: \n"
   ]
  },
  {
   "cell_type": "markdown",
   "id": "91a1c057",
   "metadata": {},
   "source": [
    "2. A block sequence in three dimensions. We can write a formula for this one:\n",
    "\n",
    "Create a function that takes a number (step) as an argument and returns the\n",
    "amount of blocks in that step.\n",
    "Examples\n",
    "blocks(1) ➞ 5\n",
    "blocks(5) ➞ 39\n",
    "blocks(2) ➞ 12\n",
    "\n",
    "\n",
    "        In [273]: def blocks(num):\n",
    "             ...:     depth = num*3+((num)-1)*1\n",
    "             ...:     height = [x for x in range(2,num+2)]\n",
    "             ...:     return depth+sum(height)\n",
    "             ...: \n"
   ]
  },
  {
   "cell_type": "markdown",
   "id": "03aa514e",
   "metadata": {},
   "source": [
    "3. Create a function that subtracts one positive integer from another, without\n",
    "using any arithmetic operators such as -, %, /, +, etc.\n",
    "Examples\n",
    "my_sub(5, 9) ➞ 4\n",
    "my_sub(10, 30) ➞ 20\n",
    "my_sub(0, 0) ➞ 0\n",
    "\n",
    "        In [270]: def my_sub(n1,n2):\n",
    "             ...:     if n2 == 0:\n",
    "             ...:         return n1\n",
    "             ...:     return my_sub(n1 ^ n2, (~n1 & n2) << 1)\n",
    "             ...: "
   ]
  },
  {
   "cell_type": "markdown",
   "id": "16ebf302",
   "metadata": {},
   "source": [
    "4. Create a function that takes a string containing money in dollars and\n",
    "pounds sterling (seperated by comma) and returns the sum of dollar bills only,\n",
    "as an integer.\n",
    "For the input string:\n",
    "- Each amount is prefixed by the currency symbol: $ for dollars and £ for\n",
    "pounds.\n",
    "- Thousands are represented by the suffix k.\n",
    "i.e. $4k = $4,000 and £40k = £40,000\n",
    "Examples\n",
    "add_bill(&quot;d20,p40,p60,d50&quot;) ➞ 20 + 50 = 70\n",
    "add_bill(&quot;p30,d20,p60,d150,p360&quot;) ➞ 20 + 150 = 170\n",
    "add_bill(&quot;p30,d2k,p60,d200,p360&quot;) ➞ 2 * 1000 + 200 = 2200\n",
    "\n",
    "        In [187]: import re\n",
    "             ...: def add_bill(s):\n",
    "             ...:     tot = 0\n",
    "             ...:     for i in s.split(','):\n",
    "             ...:         if re.search(r'([d])',i):\n",
    "             ...:             d = re.search(r'([0-9]+)([k]?)',i)\n",
    "             ...:             if d.group(2):\n",
    "             ...:                 tot += int(d.group(1))*1000\n",
    "             ...:             else:\n",
    "             ...:                 tot += int(d.group(0))\n",
    "             ...:     return tot\n",
    "             ...: \n"
   ]
  },
  {
   "cell_type": "markdown",
   "id": "deaf4510",
   "metadata": {},
   "source": [
    "5. Create a function that flips a horizontal list into a vertical list, and a vertical\n",
    "list into a horizontal list.\n",
    "In other words, take an 1 x n list (1 row + n columns) and flip it into a n x 1 list\n",
    "(n rows and 1 column), and vice versa.\n",
    "Examples\n",
    "flip_list([1, 2, 3, 4]) ➞ [[1], [2], [3], [4]]\n",
    "# Take a horizontal list and flip it vertical.\n",
    "flip_list([[5], [6], [9]]) ➞ [5, 6, 9]\n",
    "# Take a vertical list and flip it horizontal.\n",
    "flip_list([]) ➞ []\n",
    "\n",
    "        In [148]: def flip_list(l):\n",
    "             ...:     if len(l) > 0:\n",
    "             ...:         if isinstance(l[0],list):\n",
    "             ...:             return [[i[j] for i in l] for j in range(len(l[0]))]\n",
    "             ...:         else:\n",
    "             ...:             return [[i] for i in l]\n",
    "             ...:     else:\n",
    "             ...:         return []\n",
    "             ...: "
   ]
  },
  {
   "cell_type": "code",
   "execution_count": null,
   "id": "1518e556",
   "metadata": {},
   "outputs": [],
   "source": []
  }
 ],
 "metadata": {
  "kernelspec": {
   "display_name": "Python 3 (ipykernel)",
   "language": "python",
   "name": "python3"
  },
  "language_info": {
   "codemirror_mode": {
    "name": "ipython",
    "version": 3
   },
   "file_extension": ".py",
   "mimetype": "text/x-python",
   "name": "python",
   "nbconvert_exporter": "python",
   "pygments_lexer": "ipython3",
   "version": "3.9.7"
  }
 },
 "nbformat": 4,
 "nbformat_minor": 5
}
