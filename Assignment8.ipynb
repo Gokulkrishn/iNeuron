{
 "cells": [
  {
   "cell_type": "markdown",
   "id": "d3847023",
   "metadata": {},
   "source": [
    "1. Is the Python Standard Library included with PyInputPlus?\n",
    "\n",
    "No it is not included\n"
   ]
  },
  {
   "cell_type": "markdown",
   "id": "1716c61e",
   "metadata": {},
   "source": [
    "2. Why is PyInputPlus commonly imported with import pyinputplus as pypi?\n",
    "\n",
    "It is just a convention instead of using the long name"
   ]
  },
  {
   "cell_type": "markdown",
   "id": "2a1a6192",
   "metadata": {},
   "source": [
    "3. How do you distinguish between inputInt() and inputFloat()?\n",
    "\n",
    "inputInt() - takes int as input\n",
    "inputFloat() - takes float as input"
   ]
  },
  {
   "cell_type": "markdown",
   "id": "71ba1bd6",
   "metadata": {},
   "source": [
    "4. Using PyInputPlus, how do you ensure that the user enters a whole number between 0 and 99?\n",
    "\n",
    "pypi.inputInt('Enter a number=', min=0,max=99)"
   ]
  },
  {
   "cell_type": "markdown",
   "id": "f4b40367",
   "metadata": {},
   "source": [
    "5. What is transferred to the keyword arguments allowRegexes and blockRegexes?\n",
    "\n",
    "allowlistRegexes: regex str that will explicitly pass validation.\n",
    "blocklistRegexes: regex str or tuples that, if matched, will explicitly fail validation."
   ]
  },
  {
   "cell_type": "markdown",
   "id": "3a0422c9",
   "metadata": {},
   "source": [
    "6. If a blank input is entered three times, what does inputStr(limit=3) do?\n",
    "\n",
    "raises a TimeoutException exception\n"
   ]
  },
  {
   "cell_type": "markdown",
   "id": "fb223a5c",
   "metadata": {},
   "source": [
    "7. If blank input is entered three times, what does inputStr(limit=3, default='hello') do?\n",
    "\n",
    "takes 'hello' as input"
   ]
  }
 ],
 "metadata": {
  "kernelspec": {
   "display_name": "Python 3 (ipykernel)",
   "language": "python",
   "name": "python3"
  },
  "language_info": {
   "codemirror_mode": {
    "name": "ipython",
    "version": 3
   },
   "file_extension": ".py",
   "mimetype": "text/x-python",
   "name": "python",
   "nbconvert_exporter": "python",
   "pygments_lexer": "ipython3",
   "version": "3.9.7"
  }
 },
 "nbformat": 4,
 "nbformat_minor": 5
}
