{
 "cells": [
  {
   "cell_type": "markdown",
   "id": "f5a8cc87",
   "metadata": {},
   "source": [
    "1. Create a list called years_list, starting with the year of your birth, and each year thereafter until\n",
    "the year of your fifth birthday. For example, if you were born in 1980. the list would be years_list =\n",
    "[1980, 1981, 1982, 1983, 1984, 1985].\n",
    "\n",
    "        years_list = [1990, 1991, 1992, 1993, 1994, 1995]"
   ]
  },
  {
   "cell_type": "markdown",
   "id": "684676f7",
   "metadata": {},
   "source": [
    "2. In which year in years_list was your third birthday? Remember, you were 0 years of age for your\n",
    "first year.\n",
    "\n",
    "        years_list[3]"
   ]
  },
  {
   "cell_type": "markdown",
   "id": "18940405",
   "metadata": {},
   "source": [
    "3.In the years list, which year were you the oldest?\n",
    "\n",
    "        years_list[-1]"
   ]
  },
  {
   "cell_type": "markdown",
   "id": "04ae0ebb",
   "metadata": {},
   "source": [
    "4. Make a list called things with these three strings as elements: \"mozzarella\", \"cinderella\",\n",
    "\"salmonella\".\n",
    "\n",
    "        things = [\"mozzarella\", \"cinderella\", \"salmonella\"]"
   ]
  },
  {
   "cell_type": "markdown",
   "id": "4dae4cc5",
   "metadata": {},
   "source": [
    "5. Capitalize the element in things that refers to a person and then print the list. Did it change the\n",
    "element in the list?\n",
    "\n",
    "        Things = [x.capitalize() for x in things]"
   ]
  },
  {
   "cell_type": "markdown",
   "id": "2c76010a",
   "metadata": {},
   "source": [
    "6. Make a surprise list with the elements \"Groucho,\" \"Chico,\" and \"Harpo.\"\n",
    "\n",
    "        surprise_list = [\"Groucho\", \"Chico\", \"Harpo\"]"
   ]
  },
  {
   "cell_type": "markdown",
   "id": "257077d7",
   "metadata": {},
   "source": [
    "7. Lowercase the last element of the surprise list, reverse it, and then capitalize it.\n",
    "\n",
    "        (surprise_list[-1].lower()[::-1]).capitalize()"
   ]
  },
  {
   "cell_type": "markdown",
   "id": "00045ccd",
   "metadata": {},
   "source": [
    "8. Make an English-to-French dictionary called e2f and print it. Here are your starter words: dog is\n",
    "chien, cat is chat, and walrus is morse.\n",
    "\n",
    "        e2f = {\"dog\":\"chien\",\"cat\":\"chat\",\"walrus\":\"morse\"}"
   ]
  },
  {
   "cell_type": "markdown",
   "id": "99780e77",
   "metadata": {},
   "source": [
    "9. Write the French word for walrus in your three-word dictionary e2f.\n",
    "\n",
    "        e2f[\"walrus\"]"
   ]
  },
  {
   "cell_type": "markdown",
   "id": "88573321",
   "metadata": {},
   "source": [
    "10. Make a French-to-English dictionary called f2e from e2f. Use the items method.\n",
    "\n",
    "\n",
    "        In [51]: f2e = {}\n",
    "\n",
    "        In [52]: for keys in e2f.keys():\n",
    "            ...:     f2e[e2f[keys]] = keys\n"
   ]
  },
  {
   "cell_type": "markdown",
   "id": "2f26c6f4",
   "metadata": {},
   "source": [
    "11. Print the English version of the French word chien using f2e.\n",
    "\n",
    "        f2e[\"chien\"]"
   ]
  },
  {
   "cell_type": "markdown",
   "id": "fde28eda",
   "metadata": {},
   "source": [
    "12. Make and print a set of English words from the keys in e2f.\n",
    "\n",
    "        e2f.keys()"
   ]
  },
  {
   "cell_type": "markdown",
   "id": "493f6f1d",
   "metadata": {},
   "source": [
    "13. Make a multilevel dictionary called life. Use these strings for the topmost keys: \"animals\",\"plants\",\n",
    "and \"other\". Make the \"animals\" key refer to another dictionary with the keys \"cats\", \"octopi\", and\n",
    "\"emus\". Make the \"cats\" key refer to a list of strings with the values \"Henri\", \"Grumpy\", and \"Lucy\".\n",
    "Make all the other keys refer to empty dictionaries.\n",
    "\n",
    "        {'animals': {'cats': ['Henri', 'Grumpy', 'Lucy'], 'octopi': '', 'emus': ''},\n",
    "         'plants': '',\n",
    "         'others': ''}\n"
   ]
  },
  {
   "cell_type": "markdown",
   "id": "400b646a",
   "metadata": {},
   "source": [
    "14. Print the top-level keys of life.\n",
    "\n",
    "        In [51]: life.keys()\n",
    "        Out[51]: dict_keys(['animals', 'plants', 'others'])\n"
   ]
  },
  {
   "cell_type": "markdown",
   "id": "6405a812",
   "metadata": {},
   "source": [
    "15. Print the keys for life['animals'].\n",
    "\n",
    "\n",
    "        In [52]: life['animals'].keys()\n",
    "        Out[52]: dict_keys(['cats', 'octopi', 'emus'])\n"
   ]
  },
  {
   "cell_type": "markdown",
   "id": "0b307c75",
   "metadata": {},
   "source": [
    "16. Print the values for life['animals']['cats']\n",
    "\n",
    "        In [53]: life['animals']['cats']\n",
    "        Out[53]: ['Henri', 'Grumpy', 'Lucy']\n"
   ]
  }
 ],
 "metadata": {
  "kernelspec": {
   "display_name": "Python 3 (ipykernel)",
   "language": "python",
   "name": "python3"
  },
  "language_info": {
   "codemirror_mode": {
    "name": "ipython",
    "version": 3
   },
   "file_extension": ".py",
   "mimetype": "text/x-python",
   "name": "python",
   "nbconvert_exporter": "python",
   "pygments_lexer": "ipython3",
   "version": "3.9.7"
  }
 },
 "nbformat": 4,
 "nbformat_minor": 5
}
