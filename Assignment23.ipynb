{
 "cells": [
  {
   "cell_type": "markdown",
   "id": "c25e09e4",
   "metadata": {},
   "source": [
    "1. What is the result of the code, and why?\n",
    "        def func(a, b=6, c=8):\n",
    "            print(a, b, c)\n",
    "        func(1, 2)\n",
    "\n",
    "        1 2 8"
   ]
  },
  {
   "cell_type": "markdown",
   "id": "e575a267",
   "metadata": {},
   "source": [
    "2. What is the result of this code, and why?\n",
    "        def func(a, b, c=5):\n",
    "            print(a, b, c)\n",
    "        func(1, c=3, b=2)\n",
    "\n",
    "        1 2 3"
   ]
  },
  {
   "cell_type": "markdown",
   "id": "03d998ec",
   "metadata": {},
   "source": [
    "3. How about this code: what is its result, and why?\n",
    "        def func(a, *pargs):\n",
    "            print(a, pargs)\n",
    "        func(1, 2, 3)\n",
    "\n",
    "        1 (2,3)"
   ]
  },
  {
   "cell_type": "markdown",
   "id": "1463302c",
   "metadata": {},
   "source": [
    "4. What does this code print, and why?\n",
    "        def func(a, **kargs):\n",
    "            print(a, kargs)\n",
    "        func(a=1, c=3, b=2)\n",
    "\n",
    "        1 {'c': 3, 'b': 2}"
   ]
  },
  {
   "cell_type": "markdown",
   "id": "49685a45",
   "metadata": {},
   "source": [
    "5. What gets printed by this, and explain?\n",
    "        def func(a, b, c=8, d=5):\n",
    "            print(a, b, c, d)\n",
    "        func(1, *(5, 6))\n",
    "\n",
    "        1 5 6 5"
   ]
  },
  {
   "cell_type": "markdown",
   "id": "68ae2a26",
   "metadata": {},
   "source": [
    "6. what is the result of this, and explain?\n",
    "        def func(a, b, c):\n",
    "            a = 2; b[0] = 'x';c['a'] = 'y'\n",
    "        l=1; m=[1]; n={'a':0}\n",
    "        func(l, m, n)\n",
    "\n",
    "        l, m, n\n",
    "\n",
    "        (1, ['x'], {'a': 'y'})"
   ]
  }
 ],
 "metadata": {
  "kernelspec": {
   "display_name": "Python 3 (ipykernel)",
   "language": "python",
   "name": "python3"
  },
  "language_info": {
   "codemirror_mode": {
    "name": "ipython",
    "version": 3
   },
   "file_extension": ".py",
   "mimetype": "text/x-python",
   "name": "python",
   "nbconvert_exporter": "python",
   "pygments_lexer": "ipython3",
   "version": "3.9.7"
  }
 },
 "nbformat": 4,
 "nbformat_minor": 5
}
